{
  "nbformat": 4,
  "nbformat_minor": 0,
  "metadata": {
    "colab": {
      "provenance": []
    },
    "kernelspec": {
      "name": "python3",
      "display_name": "Python 3"
    }
  },
  "cells": [
    {
      "cell_type": "code",
      "metadata": {
        "id": "oagFdfM9RfGR",
        "outputId": "94ce5c7c-fcc8-445b-c512-e7472bf2b129",
        "colab": {
          "base_uri": "https://localhost:8080/",
          "height": 0
        }
      },
      "source": [
        "from google.colab import drive\n",
        "drive.mount('/content/gdrive')"
      ],
      "execution_count": 8,
      "outputs": [
        {
          "output_type": "stream",
          "name": "stdout",
          "text": [
            "Drive already mounted at /content/gdrive; to attempt to forcibly remount, call drive.mount(\"/content/gdrive\", force_remount=True).\n"
          ]
        }
      ]
    },
    {
      "cell_type": "code",
      "metadata": {
        "id": "sS11xlC-nXc5",
        "outputId": "7e41acaa-e616-4844-a16c-d965a3f3b3fa",
        "colab": {
          "base_uri": "https://localhost:8080/",
          "height": 0
        }
      },
      "source": [
        "!pip install tensorflow\n",
        "import tensorflow\n",
        "print(tensorflow.__version__)\n",
        "#!pip install tensorflow==1.15.3"
      ],
      "execution_count": 9,
      "outputs": [
        {
          "output_type": "stream",
          "name": "stdout",
          "text": [
            "Looking in indexes: https://pypi.org/simple, https://us-python.pkg.dev/colab-wheels/public/simple/\n",
            "Requirement already satisfied: tensorflow in /usr/local/lib/python3.9/dist-packages (2.11.0)\n",
            "Requirement already satisfied: tensorflow-io-gcs-filesystem>=0.23.1 in /usr/local/lib/python3.9/dist-packages (from tensorflow) (0.31.0)\n",
            "Requirement already satisfied: libclang>=13.0.0 in /usr/local/lib/python3.9/dist-packages (from tensorflow) (15.0.6.1)\n",
            "Requirement already satisfied: keras<2.12,>=2.11.0 in /usr/local/lib/python3.9/dist-packages (from tensorflow) (2.11.0)\n",
            "Requirement already satisfied: grpcio<2.0,>=1.24.3 in /usr/local/lib/python3.9/dist-packages (from tensorflow) (1.51.3)\n",
            "Requirement already satisfied: h5py>=2.9.0 in /usr/local/lib/python3.9/dist-packages (from tensorflow) (3.8.0)\n",
            "Requirement already satisfied: tensorboard<2.12,>=2.11 in /usr/local/lib/python3.9/dist-packages (from tensorflow) (2.11.2)\n",
            "Requirement already satisfied: google-pasta>=0.1.1 in /usr/local/lib/python3.9/dist-packages (from tensorflow) (0.2.0)\n",
            "Requirement already satisfied: flatbuffers>=2.0 in /usr/local/lib/python3.9/dist-packages (from tensorflow) (23.3.3)\n",
            "Requirement already satisfied: termcolor>=1.1.0 in /usr/local/lib/python3.9/dist-packages (from tensorflow) (2.2.0)\n",
            "Requirement already satisfied: protobuf<3.20,>=3.9.2 in /usr/local/lib/python3.9/dist-packages (from tensorflow) (3.19.6)\n",
            "Requirement already satisfied: opt-einsum>=2.3.2 in /usr/local/lib/python3.9/dist-packages (from tensorflow) (3.3.0)\n",
            "Requirement already satisfied: packaging in /usr/local/lib/python3.9/dist-packages (from tensorflow) (23.0)\n",
            "Requirement already satisfied: gast<=0.4.0,>=0.2.1 in /usr/local/lib/python3.9/dist-packages (from tensorflow) (0.4.0)\n",
            "Requirement already satisfied: astunparse>=1.6.0 in /usr/local/lib/python3.9/dist-packages (from tensorflow) (1.6.3)\n",
            "Requirement already satisfied: setuptools in /usr/local/lib/python3.9/dist-packages (from tensorflow) (67.6.0)\n",
            "Requirement already satisfied: absl-py>=1.0.0 in /usr/local/lib/python3.9/dist-packages (from tensorflow) (1.4.0)\n",
            "Requirement already satisfied: wrapt>=1.11.0 in /usr/local/lib/python3.9/dist-packages (from tensorflow) (1.15.0)\n",
            "Requirement already satisfied: six>=1.12.0 in /usr/local/lib/python3.9/dist-packages (from tensorflow) (1.16.0)\n",
            "Requirement already satisfied: tensorflow-estimator<2.12,>=2.11.0 in /usr/local/lib/python3.9/dist-packages (from tensorflow) (2.11.0)\n",
            "Requirement already satisfied: numpy>=1.20 in /usr/local/lib/python3.9/dist-packages (from tensorflow) (1.22.4)\n",
            "Requirement already satisfied: typing-extensions>=3.6.6 in /usr/local/lib/python3.9/dist-packages (from tensorflow) (4.5.0)\n",
            "Requirement already satisfied: wheel<1.0,>=0.23.0 in /usr/local/lib/python3.9/dist-packages (from astunparse>=1.6.0->tensorflow) (0.40.0)\n",
            "Requirement already satisfied: requests<3,>=2.21.0 in /usr/local/lib/python3.9/dist-packages (from tensorboard<2.12,>=2.11->tensorflow) (2.27.1)\n",
            "Requirement already satisfied: google-auth-oauthlib<0.5,>=0.4.1 in /usr/local/lib/python3.9/dist-packages (from tensorboard<2.12,>=2.11->tensorflow) (0.4.6)\n",
            "Requirement already satisfied: werkzeug>=1.0.1 in /usr/local/lib/python3.9/dist-packages (from tensorboard<2.12,>=2.11->tensorflow) (2.2.3)\n",
            "Requirement already satisfied: tensorboard-data-server<0.7.0,>=0.6.0 in /usr/local/lib/python3.9/dist-packages (from tensorboard<2.12,>=2.11->tensorflow) (0.6.1)\n",
            "Requirement already satisfied: markdown>=2.6.8 in /usr/local/lib/python3.9/dist-packages (from tensorboard<2.12,>=2.11->tensorflow) (3.4.3)\n",
            "Requirement already satisfied: tensorboard-plugin-wit>=1.6.0 in /usr/local/lib/python3.9/dist-packages (from tensorboard<2.12,>=2.11->tensorflow) (1.8.1)\n",
            "Requirement already satisfied: google-auth<3,>=1.6.3 in /usr/local/lib/python3.9/dist-packages (from tensorboard<2.12,>=2.11->tensorflow) (2.16.2)\n",
            "Requirement already satisfied: rsa<5,>=3.1.4 in /usr/local/lib/python3.9/dist-packages (from google-auth<3,>=1.6.3->tensorboard<2.12,>=2.11->tensorflow) (4.9)\n",
            "Requirement already satisfied: cachetools<6.0,>=2.0.0 in /usr/local/lib/python3.9/dist-packages (from google-auth<3,>=1.6.3->tensorboard<2.12,>=2.11->tensorflow) (5.3.0)\n",
            "Requirement already satisfied: pyasn1-modules>=0.2.1 in /usr/local/lib/python3.9/dist-packages (from google-auth<3,>=1.6.3->tensorboard<2.12,>=2.11->tensorflow) (0.2.8)\n",
            "Requirement already satisfied: requests-oauthlib>=0.7.0 in /usr/local/lib/python3.9/dist-packages (from google-auth-oauthlib<0.5,>=0.4.1->tensorboard<2.12,>=2.11->tensorflow) (1.3.1)\n",
            "Requirement already satisfied: importlib-metadata>=4.4 in /usr/local/lib/python3.9/dist-packages (from markdown>=2.6.8->tensorboard<2.12,>=2.11->tensorflow) (6.1.0)\n",
            "Requirement already satisfied: urllib3<1.27,>=1.21.1 in /usr/local/lib/python3.9/dist-packages (from requests<3,>=2.21.0->tensorboard<2.12,>=2.11->tensorflow) (1.26.15)\n",
            "Requirement already satisfied: idna<4,>=2.5 in /usr/local/lib/python3.9/dist-packages (from requests<3,>=2.21.0->tensorboard<2.12,>=2.11->tensorflow) (3.4)\n",
            "Requirement already satisfied: charset-normalizer~=2.0.0 in /usr/local/lib/python3.9/dist-packages (from requests<3,>=2.21.0->tensorboard<2.12,>=2.11->tensorflow) (2.0.12)\n",
            "Requirement already satisfied: certifi>=2017.4.17 in /usr/local/lib/python3.9/dist-packages (from requests<3,>=2.21.0->tensorboard<2.12,>=2.11->tensorflow) (2022.12.7)\n",
            "Requirement already satisfied: MarkupSafe>=2.1.1 in /usr/local/lib/python3.9/dist-packages (from werkzeug>=1.0.1->tensorboard<2.12,>=2.11->tensorflow) (2.1.2)\n",
            "Requirement already satisfied: zipp>=0.5 in /usr/local/lib/python3.9/dist-packages (from importlib-metadata>=4.4->markdown>=2.6.8->tensorboard<2.12,>=2.11->tensorflow) (3.15.0)\n",
            "Requirement already satisfied: pyasn1<0.5.0,>=0.4.6 in /usr/local/lib/python3.9/dist-packages (from pyasn1-modules>=0.2.1->google-auth<3,>=1.6.3->tensorboard<2.12,>=2.11->tensorflow) (0.4.8)\n",
            "Requirement already satisfied: oauthlib>=3.0.0 in /usr/local/lib/python3.9/dist-packages (from requests-oauthlib>=0.7.0->google-auth-oauthlib<0.5,>=0.4.1->tensorboard<2.12,>=2.11->tensorflow) (3.2.2)\n",
            "2.11.0\n"
          ]
        }
      ]
    },
    {
      "cell_type": "code",
      "metadata": {
        "id": "tNz7nR5-nzqy",
        "outputId": "0b8d09ef-e1c6-47e3-aa42-5b16ff69ae7c",
        "colab": {
          "base_uri": "https://localhost:8080/",
          "height": 0
        }
      },
      "source": [
        "!pip install Pillow\n",
        "!pip install opencv-python"
      ],
      "execution_count": 10,
      "outputs": [
        {
          "output_type": "stream",
          "name": "stdout",
          "text": [
            "Looking in indexes: https://pypi.org/simple, https://us-python.pkg.dev/colab-wheels/public/simple/\n",
            "Requirement already satisfied: Pillow in /usr/local/lib/python3.9/dist-packages (8.4.0)\n",
            "Looking in indexes: https://pypi.org/simple, https://us-python.pkg.dev/colab-wheels/public/simple/\n",
            "Requirement already satisfied: opencv-python in /usr/local/lib/python3.9/dist-packages (4.7.0.72)\n",
            "Requirement already satisfied: numpy>=1.17.0 in /usr/local/lib/python3.9/dist-packages (from opencv-python) (1.22.4)\n"
          ]
        }
      ]
    },
    {
      "cell_type": "code",
      "metadata": {
        "id": "nkDnFCRAU90P",
        "outputId": "397703e8-6cf8-41cc-a6b6-70ac3002cdc1",
        "colab": {
          "base_uri": "https://localhost:8080/",
          "height": 0
        }
      },
      "source": [
        "! pip install SimpleITK"
      ],
      "execution_count": 11,
      "outputs": [
        {
          "output_type": "stream",
          "name": "stdout",
          "text": [
            "Looking in indexes: https://pypi.org/simple, https://us-python.pkg.dev/colab-wheels/public/simple/\n",
            "Requirement already satisfied: SimpleITK in /usr/local/lib/python3.9/dist-packages (2.2.1)\n"
          ]
        }
      ]
    },
    {
      "cell_type": "code",
      "metadata": {
        "id": "qH_UCUhJVJFl"
      },
      "source": [
        "import SimpleITK as sitk"
      ],
      "execution_count": 12,
      "outputs": []
    },
    {
      "cell_type": "code",
      "metadata": {
        "id": "hUX2wPZ5DZCn"
      },
      "source": [
        "import numpy as np\n",
        "import pandas as pd\n",
        "\n",
        "import matplotlib.pyplot as plt\n",
        "import seaborn as sns \n",
        "\n",
        "import os\n",
        "import glob\n",
        "\n",
        "##import SimpleITK as sitk\n",
        "\n",
        "from PIL import Image\n",
        "from cv2 import imread\n",
        "\n",
        "%matplotlib inline\n",
        "from IPython.display import clear_output\n",
        "pd.options.mode.chained_assignment = None"
      ],
      "execution_count": 13,
      "outputs": []
    },
    {
      "cell_type": "code",
      "metadata": {
        "id": "Q2n_Mg0KRayf"
      },
      "source": [
        "annotations = pd.read_csv('/content/gdrive/My Drive/Project/Dataset_LUNA_16/annotations.csv')\n",
        "candidates = pd.read_csv('/content/gdrive/My Drive/Project/Dataset_LUNA_16/candidates.csv')"
      ],
      "execution_count": 14,
      "outputs": []
    },
    {
      "cell_type": "code",
      "metadata": {
        "id": "blH5EPTpTA5R",
        "outputId": "1c87aa3b-b336-45b1-856f-27d7a89ee7ce",
        "colab": {
          "base_uri": "https://localhost:8080/",
          "height": 206
        }
      },
      "source": [
        "annotations.head()"
      ],
      "execution_count": 15,
      "outputs": [
        {
          "output_type": "execute_result",
          "data": {
            "text/plain": [
              "                                           seriesuid      coordX      coordY  \\\n",
              "0  1.3.6.1.4.1.14519.5.2.1.6279.6001.100225287222... -128.699421 -175.319272   \n",
              "1  1.3.6.1.4.1.14519.5.2.1.6279.6001.100225287222...  103.783651 -211.925149   \n",
              "2  1.3.6.1.4.1.14519.5.2.1.6279.6001.100398138793...   69.639017 -140.944586   \n",
              "3  1.3.6.1.4.1.14519.5.2.1.6279.6001.100621383016...  -24.013824  192.102405   \n",
              "4  1.3.6.1.4.1.14519.5.2.1.6279.6001.100621383016...    2.441547  172.464881   \n",
              "\n",
              "       coordZ  diameter_mm  \n",
              "0 -298.387506     5.651471  \n",
              "1 -227.121250     4.224708  \n",
              "2  876.374496     5.786348  \n",
              "3 -391.081276     8.143262  \n",
              "4 -405.493732    18.545150  "
            ],
            "text/html": [
              "\n",
              "  <div id=\"df-09551aee-1622-483e-8802-554ab0328c36\">\n",
              "    <div class=\"colab-df-container\">\n",
              "      <div>\n",
              "<style scoped>\n",
              "    .dataframe tbody tr th:only-of-type {\n",
              "        vertical-align: middle;\n",
              "    }\n",
              "\n",
              "    .dataframe tbody tr th {\n",
              "        vertical-align: top;\n",
              "    }\n",
              "\n",
              "    .dataframe thead th {\n",
              "        text-align: right;\n",
              "    }\n",
              "</style>\n",
              "<table border=\"1\" class=\"dataframe\">\n",
              "  <thead>\n",
              "    <tr style=\"text-align: right;\">\n",
              "      <th></th>\n",
              "      <th>seriesuid</th>\n",
              "      <th>coordX</th>\n",
              "      <th>coordY</th>\n",
              "      <th>coordZ</th>\n",
              "      <th>diameter_mm</th>\n",
              "    </tr>\n",
              "  </thead>\n",
              "  <tbody>\n",
              "    <tr>\n",
              "      <th>0</th>\n",
              "      <td>1.3.6.1.4.1.14519.5.2.1.6279.6001.100225287222...</td>\n",
              "      <td>-128.699421</td>\n",
              "      <td>-175.319272</td>\n",
              "      <td>-298.387506</td>\n",
              "      <td>5.651471</td>\n",
              "    </tr>\n",
              "    <tr>\n",
              "      <th>1</th>\n",
              "      <td>1.3.6.1.4.1.14519.5.2.1.6279.6001.100225287222...</td>\n",
              "      <td>103.783651</td>\n",
              "      <td>-211.925149</td>\n",
              "      <td>-227.121250</td>\n",
              "      <td>4.224708</td>\n",
              "    </tr>\n",
              "    <tr>\n",
              "      <th>2</th>\n",
              "      <td>1.3.6.1.4.1.14519.5.2.1.6279.6001.100398138793...</td>\n",
              "      <td>69.639017</td>\n",
              "      <td>-140.944586</td>\n",
              "      <td>876.374496</td>\n",
              "      <td>5.786348</td>\n",
              "    </tr>\n",
              "    <tr>\n",
              "      <th>3</th>\n",
              "      <td>1.3.6.1.4.1.14519.5.2.1.6279.6001.100621383016...</td>\n",
              "      <td>-24.013824</td>\n",
              "      <td>192.102405</td>\n",
              "      <td>-391.081276</td>\n",
              "      <td>8.143262</td>\n",
              "    </tr>\n",
              "    <tr>\n",
              "      <th>4</th>\n",
              "      <td>1.3.6.1.4.1.14519.5.2.1.6279.6001.100621383016...</td>\n",
              "      <td>2.441547</td>\n",
              "      <td>172.464881</td>\n",
              "      <td>-405.493732</td>\n",
              "      <td>18.545150</td>\n",
              "    </tr>\n",
              "  </tbody>\n",
              "</table>\n",
              "</div>\n",
              "      <button class=\"colab-df-convert\" onclick=\"convertToInteractive('df-09551aee-1622-483e-8802-554ab0328c36')\"\n",
              "              title=\"Convert this dataframe to an interactive table.\"\n",
              "              style=\"display:none;\">\n",
              "        \n",
              "  <svg xmlns=\"http://www.w3.org/2000/svg\" height=\"24px\"viewBox=\"0 0 24 24\"\n",
              "       width=\"24px\">\n",
              "    <path d=\"M0 0h24v24H0V0z\" fill=\"none\"/>\n",
              "    <path d=\"M18.56 5.44l.94 2.06.94-2.06 2.06-.94-2.06-.94-.94-2.06-.94 2.06-2.06.94zm-11 1L8.5 8.5l.94-2.06 2.06-.94-2.06-.94L8.5 2.5l-.94 2.06-2.06.94zm10 10l.94 2.06.94-2.06 2.06-.94-2.06-.94-.94-2.06-.94 2.06-2.06.94z\"/><path d=\"M17.41 7.96l-1.37-1.37c-.4-.4-.92-.59-1.43-.59-.52 0-1.04.2-1.43.59L10.3 9.45l-7.72 7.72c-.78.78-.78 2.05 0 2.83L4 21.41c.39.39.9.59 1.41.59.51 0 1.02-.2 1.41-.59l7.78-7.78 2.81-2.81c.8-.78.8-2.07 0-2.86zM5.41 20L4 18.59l7.72-7.72 1.47 1.35L5.41 20z\"/>\n",
              "  </svg>\n",
              "      </button>\n",
              "      \n",
              "  <style>\n",
              "    .colab-df-container {\n",
              "      display:flex;\n",
              "      flex-wrap:wrap;\n",
              "      gap: 12px;\n",
              "    }\n",
              "\n",
              "    .colab-df-convert {\n",
              "      background-color: #E8F0FE;\n",
              "      border: none;\n",
              "      border-radius: 50%;\n",
              "      cursor: pointer;\n",
              "      display: none;\n",
              "      fill: #1967D2;\n",
              "      height: 32px;\n",
              "      padding: 0 0 0 0;\n",
              "      width: 32px;\n",
              "    }\n",
              "\n",
              "    .colab-df-convert:hover {\n",
              "      background-color: #E2EBFA;\n",
              "      box-shadow: 0px 1px 2px rgba(60, 64, 67, 0.3), 0px 1px 3px 1px rgba(60, 64, 67, 0.15);\n",
              "      fill: #174EA6;\n",
              "    }\n",
              "\n",
              "    [theme=dark] .colab-df-convert {\n",
              "      background-color: #3B4455;\n",
              "      fill: #D2E3FC;\n",
              "    }\n",
              "\n",
              "    [theme=dark] .colab-df-convert:hover {\n",
              "      background-color: #434B5C;\n",
              "      box-shadow: 0px 1px 3px 1px rgba(0, 0, 0, 0.15);\n",
              "      filter: drop-shadow(0px 1px 2px rgba(0, 0, 0, 0.3));\n",
              "      fill: #FFFFFF;\n",
              "    }\n",
              "  </style>\n",
              "\n",
              "      <script>\n",
              "        const buttonEl =\n",
              "          document.querySelector('#df-09551aee-1622-483e-8802-554ab0328c36 button.colab-df-convert');\n",
              "        buttonEl.style.display =\n",
              "          google.colab.kernel.accessAllowed ? 'block' : 'none';\n",
              "\n",
              "        async function convertToInteractive(key) {\n",
              "          const element = document.querySelector('#df-09551aee-1622-483e-8802-554ab0328c36');\n",
              "          const dataTable =\n",
              "            await google.colab.kernel.invokeFunction('convertToInteractive',\n",
              "                                                     [key], {});\n",
              "          if (!dataTable) return;\n",
              "\n",
              "          const docLinkHtml = 'Like what you see? Visit the ' +\n",
              "            '<a target=\"_blank\" href=https://colab.research.google.com/notebooks/data_table.ipynb>data table notebook</a>'\n",
              "            + ' to learn more about interactive tables.';\n",
              "          element.innerHTML = '';\n",
              "          dataTable['output_type'] = 'display_data';\n",
              "          await google.colab.output.renderOutput(dataTable, element);\n",
              "          const docLink = document.createElement('div');\n",
              "          docLink.innerHTML = docLinkHtml;\n",
              "          element.appendChild(docLink);\n",
              "        }\n",
              "      </script>\n",
              "    </div>\n",
              "  </div>\n",
              "  "
            ]
          },
          "metadata": {},
          "execution_count": 15
        }
      ]
    },
    {
      "cell_type": "code",
      "metadata": {
        "id": "AZcLNa9nTFWr",
        "outputId": "6660638b-0365-4a5f-8994-03391de8793b",
        "colab": {
          "base_uri": "https://localhost:8080/",
          "height": 0
        }
      },
      "source": [
        "candidates['class'].sum()"
      ],
      "execution_count": 16,
      "outputs": [
        {
          "output_type": "execute_result",
          "data": {
            "text/plain": [
              "1351"
            ]
          },
          "metadata": {},
          "execution_count": 16
        }
      ]
    },
    {
      "cell_type": "code",
      "metadata": {
        "id": "AOC9aR4VTIia",
        "outputId": "05c27d15-7adc-491a-e8f3-dff85cd76e6d",
        "colab": {
          "base_uri": "https://localhost:8080/",
          "height": 0
        }
      },
      "source": [
        "candidates.info()"
      ],
      "execution_count": 17,
      "outputs": [
        {
          "output_type": "stream",
          "name": "stdout",
          "text": [
            "<class 'pandas.core.frame.DataFrame'>\n",
            "RangeIndex: 551065 entries, 0 to 551064\n",
            "Data columns (total 5 columns):\n",
            " #   Column     Non-Null Count   Dtype  \n",
            "---  ------     --------------   -----  \n",
            " 0   seriesuid  551065 non-null  object \n",
            " 1   coordX     551065 non-null  float64\n",
            " 2   coordY     551065 non-null  float64\n",
            " 3   coordZ     551065 non-null  float64\n",
            " 4   class      551065 non-null  int64  \n",
            "dtypes: float64(3), int64(1), object(1)\n",
            "memory usage: 21.0+ MB\n"
          ]
        }
      ]
    },
    {
      "cell_type": "code",
      "metadata": {
        "id": "cX2lxJNuTLuv",
        "outputId": "6c06c75b-14c1-4112-91ef-2c1daa952794",
        "colab": {
          "base_uri": "https://localhost:8080/",
          "height": 0
        }
      },
      "source": [
        "print(len(candidates[candidates['class'] == 1]))\n",
        "print(len(candidates[candidates['class'] == 0]))"
      ],
      "execution_count": 18,
      "outputs": [
        {
          "output_type": "stream",
          "name": "stdout",
          "text": [
            "1351\n",
            "549714\n"
          ]
        }
      ]
    },
    {
      "cell_type": "code",
      "metadata": {
        "id": "y0TFoyQtTPFi",
        "outputId": "defe3be2-cf36-4dc3-8798-927a557ade1b",
        "colab": {
          "base_uri": "https://localhost:8080/",
          "height": 0
        }
      },
      "source": [
        "import multiprocessing\n",
        "num_cores = multiprocessing.cpu_count()\n",
        "print(num_cores)"
      ],
      "execution_count": 19,
      "outputs": [
        {
          "output_type": "stream",
          "name": "stdout",
          "text": [
            "2\n"
          ]
        }
      ]
    },
    {
      "cell_type": "code",
      "metadata": {
        "id": "iCDjiuduTiyQ"
      },
      "source": [
        "class CTScan(object):\n",
        "    def __init__(self, filename = None, coords = None):\n",
        "        self.filename = filename\n",
        "        self.coords = coords\n",
        "        self.ds = None\n",
        "        self.image = None\n",
        "\n",
        "    def reset_coords(self, coords):\n",
        "        self.coords = coords\n",
        "\n",
        "    def read_mhd_image(self):\n",
        "        path = glob.glob('/content/gdrive/My Drive/Project/Dataset_LUNA_16/seg-lungs-LUNA16/*/'+ self.filename + '.mhd')\n",
        "        self.ds = sitk.ReadImage(path[0])\n",
        "        self.image = sitk.GetArrayFromImage(self.ds)\n",
        "\n",
        "    def get_resolution(self):\n",
        "        return self.ds.GetSpacing()\n",
        "\n",
        "    def get_origin(self):\n",
        "        return self.ds.GetOrigin()\n",
        "\n",
        "    def get_ds(self):\n",
        "        return self.ds\n",
        "\n",
        "    def get_voxel_coords(self):\n",
        "        origin = self.get_origin()\n",
        "        resolution = self.get_resolution()\n",
        "        voxel_coords = [np.absolute(self.coords[j]-origin[j])/resolution[j] \\\n",
        "            for j in range(len(self.coords))]\n",
        "        return tuple(voxel_coords)\n",
        "    \n",
        "    def get_image(self):\n",
        "        return self.image\n",
        "    \n",
        "    def get_subimage(self, width):\n",
        "        self.read_mhd_image()\n",
        "        x, y, z = self.get_voxel_coords()\n",
        "        subImage = self.image[z, y-width/2:y+width/2, x-width/2:x+width/2]\n",
        "        return subImage   \n",
        "    def normalizePlanes(self, npzarray):\n",
        "        maxHU = 400.\n",
        "        minHU = -1000.\n",
        "        npzarray = (npzarray - minHU) / (maxHU - minHU)\n",
        "        npzarray[npzarray>1] = 1.\n",
        "        npzarray[npzarray<0] = 0.\n",
        "        return npzarray\n",
        "    \n",
        "    def save_image(self, filename, width):\n",
        "        image = self.get_subimage(width)\n",
        "        image = self.normalizePlanes(image)\n",
        "        Image.fromarray(image*255).convert('L').save(filename)"
      ],
      "execution_count": 20,
      "outputs": []
    },
    {
      "cell_type": "code",
      "metadata": {
        "id": "3whhDPp5VOGj"
      },
      "source": [
        "positives = candidates[candidates['class']==1].index  \n",
        "negatives = candidates[candidates['class']==0].index"
      ],
      "execution_count": 21,
      "outputs": []
    },
    {
      "cell_type": "code",
      "metadata": {
        "id": "gLpNocTAVS6K"
      },
      "source": [
        "scan = CTScan(np.asarray(candidates.iloc[negatives[600]])[0], \\\n",
        "              np.asarray(candidates.iloc[negatives[600]])[1:-1])\n",
        "scan.read_mhd_image()\n",
        "x, y, z = scan.get_voxel_coords()\n",
        "image = scan.get_image()\n",
        "dx, dy, dz = scan.get_resolution()\n",
        "x0, y0, z0 = scan.get_origin()"
      ],
      "execution_count": 22,
      "outputs": []
    },
    {
      "cell_type": "code",
      "metadata": {
        "id": "oVQqaP2fVZXV"
      },
      "source": [
        "filename = '1.3.6.1.4.1.14519.5.2.1.6279.6001.100398138793540579077826395208'\n",
        "coords = (70.19, -140.93, 877.68)#[877.68, -140.93, 70.19]\n",
        "scan = CTScan(filename, coords)\n",
        "scan.read_mhd_image()\n",
        "x, y, z = scan.get_voxel_coords()\n",
        "image = scan.get_image()\n",
        "dx, dy, dz = scan.get_resolution()\n",
        "x0, y0, z0 = scan.get_origin()"
      ],
      "execution_count": 23,
      "outputs": []
    },
    {
      "cell_type": "code",
      "metadata": {
        "id": "_Pl1C_SQVeTj",
        "outputId": "716e18e3-1973-4eb2-c7c9-09384c71d2fc",
        "colab": {
          "base_uri": "https://localhost:8080/",
          "height": 0
        }
      },
      "source": [
        "positives"
      ],
      "execution_count": 24,
      "outputs": [
        {
          "output_type": "execute_result",
          "data": {
            "text/plain": [
              "Int64Index([    13,     78,   1303,   3050,   3052,   3080,   3223,   3285,\n",
              "              3287,   3289,\n",
              "            ...\n",
              "            545928, 546205, 546372, 546400, 547498, 548674, 550171, 550334,\n",
              "            550810, 550906],\n",
              "           dtype='int64', length=1351)"
            ]
          },
          "metadata": {},
          "execution_count": 24
        }
      ]
    },
    {
      "cell_type": "code",
      "metadata": {
        "id": "--k2yKIGVhpk"
      },
      "source": [
        "np.random.seed(42)\n",
        "negIndexes = np.random.choice(negatives, len(positives)*5, replace = False)"
      ],
      "execution_count": 25,
      "outputs": []
    },
    {
      "cell_type": "code",
      "metadata": {
        "id": "o-GtWQOiVloy"
      },
      "source": [
        "candidatesDf = candidates.iloc[list(positives)+list(negIndexes)]"
      ],
      "execution_count": 26,
      "outputs": []
    },
    {
      "cell_type": "code",
      "metadata": {
        "id": "-m7_X42mVpJz"
      },
      "source": [
        "from sklearn.model_selection import train_test_split\n",
        "X = candidatesDf.iloc[:,:-1]\n",
        "y = candidatesDf.iloc[:,-1]\n",
        "X_train, X_test, y_train, y_test = train_test_split(X, y, test_size = 0.20, random_state = 42)"
      ],
      "execution_count": 27,
      "outputs": []
    },
    {
      "cell_type": "code",
      "metadata": {
        "id": "5mEZ27d6V4Up",
        "outputId": "e8a61292-28b7-42c9-89e8-58fd426c412e",
        "colab": {
          "base_uri": "https://localhost:8080/",
          "height": 0
        }
      },
      "source": [
        "X_train.size"
      ],
      "execution_count": 28,
      "outputs": [
        {
          "output_type": "execute_result",
          "data": {
            "text/plain": [
              "25936"
            ]
          },
          "metadata": {},
          "execution_count": 28
        }
      ]
    },
    {
      "cell_type": "code",
      "metadata": {
        "id": "9MNUIyvawvaS",
        "outputId": "5c071f9c-0fd2-4296-b3db-511013b030cd",
        "colab": {
          "base_uri": "https://localhost:8080/",
          "height": 0
        }
      },
      "source": [
        "y_train"
      ],
      "execution_count": 29,
      "outputs": [
        {
          "output_type": "execute_result",
          "data": {
            "text/plain": [
              "178085    0\n",
              "108126    0\n",
              "416697    0\n",
              "342095    0\n",
              "116478    0\n",
              "         ..\n",
              "469116    0\n",
              "164439    0\n",
              "333192    1\n",
              "358382    0\n",
              "536292    0\n",
              "Name: class, Length: 6484, dtype: int64"
            ]
          },
          "metadata": {},
          "execution_count": 29
        }
      ]
    },
    {
      "cell_type": "code",
      "metadata": {
        "id": "c08T5JduwzoL",
        "outputId": "2a951830-c217-44b5-e12a-c13353dfc374",
        "colab": {
          "base_uri": "https://localhost:8080/",
          "height": 0
        }
      },
      "source": [
        "y_test"
      ],
      "execution_count": 30,
      "outputs": [
        {
          "output_type": "execute_result",
          "data": {
            "text/plain": [
              "189342    0\n",
              "145102    0\n",
              "31546     0\n",
              "441280    1\n",
              "215578    0\n",
              "         ..\n",
              "87015     0\n",
              "245189    0\n",
              "533231    0\n",
              "52755     0\n",
              "379730    0\n",
              "Name: class, Length: 1622, dtype: int64"
            ]
          },
          "metadata": {},
          "execution_count": 30
        }
      ]
    },
    {
      "cell_type": "code",
      "metadata": {
        "id": "oGI2CG0EV-bu"
      },
      "source": [
        "X_train, X_val, y_train, y_val = train_test_split(X_train, y_train, test_size = 0.20, random_state = 42)"
      ],
      "execution_count": 31,
      "outputs": []
    },
    {
      "cell_type": "code",
      "metadata": {
        "id": "qHYhZkqdw64b",
        "outputId": "fd306e8f-e64e-4e71-ae40-1e7237e8ca96",
        "colab": {
          "base_uri": "https://localhost:8080/",
          "height": 0
        }
      },
      "source": [
        "X_train.size"
      ],
      "execution_count": 32,
      "outputs": [
        {
          "output_type": "execute_result",
          "data": {
            "text/plain": [
              "20748"
            ]
          },
          "metadata": {},
          "execution_count": 32
        }
      ]
    },
    {
      "cell_type": "code",
      "metadata": {
        "id": "AZZt2UVUw-pH",
        "outputId": "e873c2c0-2ef7-4893-bbe3-60738940f495",
        "colab": {
          "base_uri": "https://localhost:8080/",
          "height": 423
        }
      },
      "source": [
        "X_train"
      ],
      "execution_count": 33,
      "outputs": [
        {
          "output_type": "execute_result",
          "data": {
            "text/plain": [
              "                                                seriesuid      coordX  \\\n",
              "59270   1.3.6.1.4.1.14519.5.2.1.6279.6001.132817748896...  -97.808167   \n",
              "150277  1.3.6.1.4.1.14519.5.2.1.6279.6001.182192086929...   58.990000   \n",
              "432208  1.3.6.1.4.1.14519.5.2.1.6279.6001.397522780537...  -50.307219   \n",
              "423122  1.3.6.1.4.1.14519.5.2.1.6279.6001.339882192295... -106.731000   \n",
              "344581  1.3.6.1.4.1.14519.5.2.1.6279.6001.296863826932...   67.240000   \n",
              "...                                                   ...         ...   \n",
              "323102  1.3.6.1.4.1.14519.5.2.1.6279.6001.279953669991...  -22.239361   \n",
              "94004   1.3.6.1.4.1.14519.5.2.1.6279.6001.149893110752...   52.320000   \n",
              "459476  1.3.6.1.4.1.14519.5.2.1.6279.6001.503980049263... -112.420630   \n",
              "241550  1.3.6.1.4.1.14519.5.2.1.6279.6001.230416590143...  -27.740000   \n",
              "211695  1.3.6.1.4.1.14519.5.2.1.6279.6001.215785045378...  -58.670000   \n",
              "\n",
              "            coordY      coordZ  \n",
              "59270     3.897917 -201.030000  \n",
              "150277  -24.230000  -18.320000  \n",
              "432208  159.439740 -113.418797  \n",
              "423122 -104.468000  751.163333  \n",
              "344581  -32.590000 -107.790000  \n",
              "...            ...         ...  \n",
              "323102   84.653132 -161.740390  \n",
              "94004    65.000000 -117.870000  \n",
              "459476   37.648160  -67.928064  \n",
              "241550 -121.660000 -254.130000  \n",
              "211695  163.720000 -641.700000  \n",
              "\n",
              "[5187 rows x 4 columns]"
            ],
            "text/html": [
              "\n",
              "  <div id=\"df-f91c4d61-9b07-48c6-9735-6bfb90a97b9a\">\n",
              "    <div class=\"colab-df-container\">\n",
              "      <div>\n",
              "<style scoped>\n",
              "    .dataframe tbody tr th:only-of-type {\n",
              "        vertical-align: middle;\n",
              "    }\n",
              "\n",
              "    .dataframe tbody tr th {\n",
              "        vertical-align: top;\n",
              "    }\n",
              "\n",
              "    .dataframe thead th {\n",
              "        text-align: right;\n",
              "    }\n",
              "</style>\n",
              "<table border=\"1\" class=\"dataframe\">\n",
              "  <thead>\n",
              "    <tr style=\"text-align: right;\">\n",
              "      <th></th>\n",
              "      <th>seriesuid</th>\n",
              "      <th>coordX</th>\n",
              "      <th>coordY</th>\n",
              "      <th>coordZ</th>\n",
              "    </tr>\n",
              "  </thead>\n",
              "  <tbody>\n",
              "    <tr>\n",
              "      <th>59270</th>\n",
              "      <td>1.3.6.1.4.1.14519.5.2.1.6279.6001.132817748896...</td>\n",
              "      <td>-97.808167</td>\n",
              "      <td>3.897917</td>\n",
              "      <td>-201.030000</td>\n",
              "    </tr>\n",
              "    <tr>\n",
              "      <th>150277</th>\n",
              "      <td>1.3.6.1.4.1.14519.5.2.1.6279.6001.182192086929...</td>\n",
              "      <td>58.990000</td>\n",
              "      <td>-24.230000</td>\n",
              "      <td>-18.320000</td>\n",
              "    </tr>\n",
              "    <tr>\n",
              "      <th>432208</th>\n",
              "      <td>1.3.6.1.4.1.14519.5.2.1.6279.6001.397522780537...</td>\n",
              "      <td>-50.307219</td>\n",
              "      <td>159.439740</td>\n",
              "      <td>-113.418797</td>\n",
              "    </tr>\n",
              "    <tr>\n",
              "      <th>423122</th>\n",
              "      <td>1.3.6.1.4.1.14519.5.2.1.6279.6001.339882192295...</td>\n",
              "      <td>-106.731000</td>\n",
              "      <td>-104.468000</td>\n",
              "      <td>751.163333</td>\n",
              "    </tr>\n",
              "    <tr>\n",
              "      <th>344581</th>\n",
              "      <td>1.3.6.1.4.1.14519.5.2.1.6279.6001.296863826932...</td>\n",
              "      <td>67.240000</td>\n",
              "      <td>-32.590000</td>\n",
              "      <td>-107.790000</td>\n",
              "    </tr>\n",
              "    <tr>\n",
              "      <th>...</th>\n",
              "      <td>...</td>\n",
              "      <td>...</td>\n",
              "      <td>...</td>\n",
              "      <td>...</td>\n",
              "    </tr>\n",
              "    <tr>\n",
              "      <th>323102</th>\n",
              "      <td>1.3.6.1.4.1.14519.5.2.1.6279.6001.279953669991...</td>\n",
              "      <td>-22.239361</td>\n",
              "      <td>84.653132</td>\n",
              "      <td>-161.740390</td>\n",
              "    </tr>\n",
              "    <tr>\n",
              "      <th>94004</th>\n",
              "      <td>1.3.6.1.4.1.14519.5.2.1.6279.6001.149893110752...</td>\n",
              "      <td>52.320000</td>\n",
              "      <td>65.000000</td>\n",
              "      <td>-117.870000</td>\n",
              "    </tr>\n",
              "    <tr>\n",
              "      <th>459476</th>\n",
              "      <td>1.3.6.1.4.1.14519.5.2.1.6279.6001.503980049263...</td>\n",
              "      <td>-112.420630</td>\n",
              "      <td>37.648160</td>\n",
              "      <td>-67.928064</td>\n",
              "    </tr>\n",
              "    <tr>\n",
              "      <th>241550</th>\n",
              "      <td>1.3.6.1.4.1.14519.5.2.1.6279.6001.230416590143...</td>\n",
              "      <td>-27.740000</td>\n",
              "      <td>-121.660000</td>\n",
              "      <td>-254.130000</td>\n",
              "    </tr>\n",
              "    <tr>\n",
              "      <th>211695</th>\n",
              "      <td>1.3.6.1.4.1.14519.5.2.1.6279.6001.215785045378...</td>\n",
              "      <td>-58.670000</td>\n",
              "      <td>163.720000</td>\n",
              "      <td>-641.700000</td>\n",
              "    </tr>\n",
              "  </tbody>\n",
              "</table>\n",
              "<p>5187 rows × 4 columns</p>\n",
              "</div>\n",
              "      <button class=\"colab-df-convert\" onclick=\"convertToInteractive('df-f91c4d61-9b07-48c6-9735-6bfb90a97b9a')\"\n",
              "              title=\"Convert this dataframe to an interactive table.\"\n",
              "              style=\"display:none;\">\n",
              "        \n",
              "  <svg xmlns=\"http://www.w3.org/2000/svg\" height=\"24px\"viewBox=\"0 0 24 24\"\n",
              "       width=\"24px\">\n",
              "    <path d=\"M0 0h24v24H0V0z\" fill=\"none\"/>\n",
              "    <path d=\"M18.56 5.44l.94 2.06.94-2.06 2.06-.94-2.06-.94-.94-2.06-.94 2.06-2.06.94zm-11 1L8.5 8.5l.94-2.06 2.06-.94-2.06-.94L8.5 2.5l-.94 2.06-2.06.94zm10 10l.94 2.06.94-2.06 2.06-.94-2.06-.94-.94-2.06-.94 2.06-2.06.94z\"/><path d=\"M17.41 7.96l-1.37-1.37c-.4-.4-.92-.59-1.43-.59-.52 0-1.04.2-1.43.59L10.3 9.45l-7.72 7.72c-.78.78-.78 2.05 0 2.83L4 21.41c.39.39.9.59 1.41.59.51 0 1.02-.2 1.41-.59l7.78-7.78 2.81-2.81c.8-.78.8-2.07 0-2.86zM5.41 20L4 18.59l7.72-7.72 1.47 1.35L5.41 20z\"/>\n",
              "  </svg>\n",
              "      </button>\n",
              "      \n",
              "  <style>\n",
              "    .colab-df-container {\n",
              "      display:flex;\n",
              "      flex-wrap:wrap;\n",
              "      gap: 12px;\n",
              "    }\n",
              "\n",
              "    .colab-df-convert {\n",
              "      background-color: #E8F0FE;\n",
              "      border: none;\n",
              "      border-radius: 50%;\n",
              "      cursor: pointer;\n",
              "      display: none;\n",
              "      fill: #1967D2;\n",
              "      height: 32px;\n",
              "      padding: 0 0 0 0;\n",
              "      width: 32px;\n",
              "    }\n",
              "\n",
              "    .colab-df-convert:hover {\n",
              "      background-color: #E2EBFA;\n",
              "      box-shadow: 0px 1px 2px rgba(60, 64, 67, 0.3), 0px 1px 3px 1px rgba(60, 64, 67, 0.15);\n",
              "      fill: #174EA6;\n",
              "    }\n",
              "\n",
              "    [theme=dark] .colab-df-convert {\n",
              "      background-color: #3B4455;\n",
              "      fill: #D2E3FC;\n",
              "    }\n",
              "\n",
              "    [theme=dark] .colab-df-convert:hover {\n",
              "      background-color: #434B5C;\n",
              "      box-shadow: 0px 1px 3px 1px rgba(0, 0, 0, 0.15);\n",
              "      filter: drop-shadow(0px 1px 2px rgba(0, 0, 0, 0.3));\n",
              "      fill: #FFFFFF;\n",
              "    }\n",
              "  </style>\n",
              "\n",
              "      <script>\n",
              "        const buttonEl =\n",
              "          document.querySelector('#df-f91c4d61-9b07-48c6-9735-6bfb90a97b9a button.colab-df-convert');\n",
              "        buttonEl.style.display =\n",
              "          google.colab.kernel.accessAllowed ? 'block' : 'none';\n",
              "\n",
              "        async function convertToInteractive(key) {\n",
              "          const element = document.querySelector('#df-f91c4d61-9b07-48c6-9735-6bfb90a97b9a');\n",
              "          const dataTable =\n",
              "            await google.colab.kernel.invokeFunction('convertToInteractive',\n",
              "                                                     [key], {});\n",
              "          if (!dataTable) return;\n",
              "\n",
              "          const docLinkHtml = 'Like what you see? Visit the ' +\n",
              "            '<a target=\"_blank\" href=https://colab.research.google.com/notebooks/data_table.ipynb>data table notebook</a>'\n",
              "            + ' to learn more about interactive tables.';\n",
              "          element.innerHTML = '';\n",
              "          dataTable['output_type'] = 'display_data';\n",
              "          await google.colab.output.renderOutput(dataTable, element);\n",
              "          const docLink = document.createElement('div');\n",
              "          docLink.innerHTML = docLinkHtml;\n",
              "          element.appendChild(docLink);\n",
              "        }\n",
              "      </script>\n",
              "    </div>\n",
              "  </div>\n",
              "  "
            ]
          },
          "metadata": {},
          "execution_count": 33
        }
      ]
    },
    {
      "cell_type": "code",
      "metadata": {
        "id": "RftMDNVGxDUu",
        "outputId": "61dc3353-9731-432f-fb06-c69f59ccd9b8",
        "colab": {
          "base_uri": "https://localhost:8080/",
          "height": 0
        }
      },
      "source": [
        "y_train"
      ],
      "execution_count": 34,
      "outputs": [
        {
          "output_type": "execute_result",
          "data": {
            "text/plain": [
              "59270     0\n",
              "150277    0\n",
              "432208    0\n",
              "423122    0\n",
              "344581    0\n",
              "         ..\n",
              "323102    0\n",
              "94004     0\n",
              "459476    1\n",
              "241550    0\n",
              "211695    0\n",
              "Name: class, Length: 5187, dtype: int64"
            ]
          },
          "metadata": {},
          "execution_count": 34
        }
      ]
    },
    {
      "cell_type": "code",
      "metadata": {
        "id": "Rbvy9OaCWEAQ",
        "outputId": "300a7298-a6cb-4c1e-af5d-1f5c707301d3",
        "colab": {
          "base_uri": "https://localhost:8080/",
          "height": 0
        }
      },
      "source": [
        "len(X_train)"
      ],
      "execution_count": 35,
      "outputs": [
        {
          "output_type": "execute_result",
          "data": {
            "text/plain": [
              "5187"
            ]
          },
          "metadata": {},
          "execution_count": 35
        }
      ]
    },
    {
      "cell_type": "code",
      "metadata": {
        "id": "BlkcD09KWILb"
      },
      "source": [
        "X_train.to_pickle('/content/gdrive/My Drive/Project/Dataset_LUNA_16/preprocessed_data/traindata')\n",
        "X_test.to_pickle('/content/gdrive/My Drive/Project/Dataset_LUNA_16/preprocessed_data/testdata')\n",
        "X_val.to_pickle('/content/gdrive/My Drive/Project/Dataset_LUNA_16/preprocessed_data/valdata')"
      ],
      "execution_count": 36,
      "outputs": []
    },
    {
      "cell_type": "code",
      "metadata": {
        "id": "NWIFVJobWrIO"
      },
      "source": [
        "def normalizePlanes(npzarray):\n",
        "    maxHU = 400.\n",
        "    minHU = -1000.\n",
        "    npzarray = (npzarray - minHU) / (maxHU - minHU)\n",
        "    npzarray[npzarray>1] = 1.\n",
        "    npzarray[npzarray<0] = 0.\n",
        "    return npzarray"
      ],
      "execution_count": 37,
      "outputs": []
    },
    {
      "cell_type": "code",
      "metadata": {
        "id": "83fjF0_2WufO",
        "outputId": "d4891ad9-7307-42fb-9238-b51c3d91ba32",
        "colab": {
          "base_uri": "https://localhost:8080/",
          "height": 0
        }
      },
      "source": [
        "print('number of positive cases are ' + str(y_train.sum()))\n",
        "print('total set size is ' + str(len(y_train)))\n",
        "print('percentage of positive cases are ' + str(y_train.sum()*1.0/len(y_train)))"
      ],
      "execution_count": 38,
      "outputs": [
        {
          "output_type": "stream",
          "name": "stdout",
          "text": [
            "number of positive cases are 845\n",
            "total set size is 5187\n",
            "percentage of positive cases are 0.16290726817042606\n"
          ]
        }
      ]
    },
    {
      "cell_type": "code",
      "metadata": {
        "id": "vNyRIUBGW7cr",
        "outputId": "5381ffec-daca-45a6-c26d-652762f24bd5",
        "colab": {
          "base_uri": "https://localhost:8080/",
          "height": 0
        }
      },
      "source": [
        "tempDf = X_train[y_train == 1]\n",
        "tempDf = tempDf.set_index(X_train[y_train == 1].index + 1000000)\n",
        "X_train_new = X_train.append(tempDf)\n",
        "tempDf = tempDf.set_index(X_train[y_train == 1].index + 2000000)\n",
        "X_train_new = X_train_new.append(tempDf)\n",
        "\n",
        "ytemp = y_train.reindex(X_train[y_train == 1].index + 1000000)\n",
        "ytemp.loc[:] = 1\n",
        "y_train_new = y_train.append(ytemp)\n",
        "ytemp = y_train.reindex(X_train[y_train == 1].index + 2000000)\n",
        "ytemp.loc[:] = 1\n",
        "y_train_new = y_train_new.append(ytemp)\n",
        "\n",
        "print(len(X_train_new), len(y_train_new))"
      ],
      "execution_count": 39,
      "outputs": [
        {
          "output_type": "stream",
          "name": "stdout",
          "text": [
            "6877 6877\n"
          ]
        },
        {
          "output_type": "stream",
          "name": "stderr",
          "text": [
            "<ipython-input-39-7288908019ee>:3: FutureWarning: The frame.append method is deprecated and will be removed from pandas in a future version. Use pandas.concat instead.\n",
            "  X_train_new = X_train.append(tempDf)\n",
            "<ipython-input-39-7288908019ee>:5: FutureWarning: The frame.append method is deprecated and will be removed from pandas in a future version. Use pandas.concat instead.\n",
            "  X_train_new = X_train_new.append(tempDf)\n",
            "<ipython-input-39-7288908019ee>:9: FutureWarning: The series.append method is deprecated and will be removed from pandas in a future version. Use pandas.concat instead.\n",
            "  y_train_new = y_train.append(ytemp)\n",
            "<ipython-input-39-7288908019ee>:12: FutureWarning: The series.append method is deprecated and will be removed from pandas in a future version. Use pandas.concat instead.\n",
            "  y_train_new = y_train_new.append(ytemp)\n"
          ]
        }
      ]
    },
    {
      "cell_type": "code",
      "metadata": {
        "id": "u6DaBK6ExRYc",
        "outputId": "2cf6d911-d841-45c5-a04f-09cc7f8a9294",
        "colab": {
          "base_uri": "https://localhost:8080/",
          "height": 423
        }
      },
      "source": [
        "X_train_new"
      ],
      "execution_count": 40,
      "outputs": [
        {
          "output_type": "execute_result",
          "data": {
            "text/plain": [
              "                                                 seriesuid      coordX  \\\n",
              "59270    1.3.6.1.4.1.14519.5.2.1.6279.6001.132817748896...  -97.808167   \n",
              "150277   1.3.6.1.4.1.14519.5.2.1.6279.6001.182192086929...   58.990000   \n",
              "432208   1.3.6.1.4.1.14519.5.2.1.6279.6001.397522780537...  -50.307219   \n",
              "423122   1.3.6.1.4.1.14519.5.2.1.6279.6001.339882192295... -106.731000   \n",
              "344581   1.3.6.1.4.1.14519.5.2.1.6279.6001.296863826932...   67.240000   \n",
              "...                                                    ...         ...   \n",
              "2436163  1.3.6.1.4.1.14519.5.2.1.6279.6001.404768898286...   88.955096   \n",
              "2013078  1.3.6.1.4.1.14519.5.2.1.6279.6001.106719103982...  -57.089458   \n",
              "2352132  1.3.6.1.4.1.14519.5.2.1.6279.6001.300246184547...  100.136716   \n",
              "2188812  1.3.6.1.4.1.14519.5.2.1.6279.6001.202187810895...  118.180000   \n",
              "2459476  1.3.6.1.4.1.14519.5.2.1.6279.6001.503980049263... -112.420630   \n",
              "\n",
              "             coordY       coordZ  \n",
              "59270      3.897917  -201.030000  \n",
              "150277   -24.230000   -18.320000  \n",
              "432208   159.439740  -113.418797  \n",
              "423122  -104.468000   751.163333  \n",
              "344581   -32.590000  -107.790000  \n",
              "...             ...          ...  \n",
              "2436163  224.250740  -586.901865  \n",
              "2013078   72.608061  1791.668825  \n",
              "2352132    3.904990   -93.909072  \n",
              "2188812  -42.910000  -247.440000  \n",
              "2459476   37.648160   -67.928064  \n",
              "\n",
              "[6877 rows x 4 columns]"
            ],
            "text/html": [
              "\n",
              "  <div id=\"df-022edd72-43b3-45e9-824f-dd51395f11b2\">\n",
              "    <div class=\"colab-df-container\">\n",
              "      <div>\n",
              "<style scoped>\n",
              "    .dataframe tbody tr th:only-of-type {\n",
              "        vertical-align: middle;\n",
              "    }\n",
              "\n",
              "    .dataframe tbody tr th {\n",
              "        vertical-align: top;\n",
              "    }\n",
              "\n",
              "    .dataframe thead th {\n",
              "        text-align: right;\n",
              "    }\n",
              "</style>\n",
              "<table border=\"1\" class=\"dataframe\">\n",
              "  <thead>\n",
              "    <tr style=\"text-align: right;\">\n",
              "      <th></th>\n",
              "      <th>seriesuid</th>\n",
              "      <th>coordX</th>\n",
              "      <th>coordY</th>\n",
              "      <th>coordZ</th>\n",
              "    </tr>\n",
              "  </thead>\n",
              "  <tbody>\n",
              "    <tr>\n",
              "      <th>59270</th>\n",
              "      <td>1.3.6.1.4.1.14519.5.2.1.6279.6001.132817748896...</td>\n",
              "      <td>-97.808167</td>\n",
              "      <td>3.897917</td>\n",
              "      <td>-201.030000</td>\n",
              "    </tr>\n",
              "    <tr>\n",
              "      <th>150277</th>\n",
              "      <td>1.3.6.1.4.1.14519.5.2.1.6279.6001.182192086929...</td>\n",
              "      <td>58.990000</td>\n",
              "      <td>-24.230000</td>\n",
              "      <td>-18.320000</td>\n",
              "    </tr>\n",
              "    <tr>\n",
              "      <th>432208</th>\n",
              "      <td>1.3.6.1.4.1.14519.5.2.1.6279.6001.397522780537...</td>\n",
              "      <td>-50.307219</td>\n",
              "      <td>159.439740</td>\n",
              "      <td>-113.418797</td>\n",
              "    </tr>\n",
              "    <tr>\n",
              "      <th>423122</th>\n",
              "      <td>1.3.6.1.4.1.14519.5.2.1.6279.6001.339882192295...</td>\n",
              "      <td>-106.731000</td>\n",
              "      <td>-104.468000</td>\n",
              "      <td>751.163333</td>\n",
              "    </tr>\n",
              "    <tr>\n",
              "      <th>344581</th>\n",
              "      <td>1.3.6.1.4.1.14519.5.2.1.6279.6001.296863826932...</td>\n",
              "      <td>67.240000</td>\n",
              "      <td>-32.590000</td>\n",
              "      <td>-107.790000</td>\n",
              "    </tr>\n",
              "    <tr>\n",
              "      <th>...</th>\n",
              "      <td>...</td>\n",
              "      <td>...</td>\n",
              "      <td>...</td>\n",
              "      <td>...</td>\n",
              "    </tr>\n",
              "    <tr>\n",
              "      <th>2436163</th>\n",
              "      <td>1.3.6.1.4.1.14519.5.2.1.6279.6001.404768898286...</td>\n",
              "      <td>88.955096</td>\n",
              "      <td>224.250740</td>\n",
              "      <td>-586.901865</td>\n",
              "    </tr>\n",
              "    <tr>\n",
              "      <th>2013078</th>\n",
              "      <td>1.3.6.1.4.1.14519.5.2.1.6279.6001.106719103982...</td>\n",
              "      <td>-57.089458</td>\n",
              "      <td>72.608061</td>\n",
              "      <td>1791.668825</td>\n",
              "    </tr>\n",
              "    <tr>\n",
              "      <th>2352132</th>\n",
              "      <td>1.3.6.1.4.1.14519.5.2.1.6279.6001.300246184547...</td>\n",
              "      <td>100.136716</td>\n",
              "      <td>3.904990</td>\n",
              "      <td>-93.909072</td>\n",
              "    </tr>\n",
              "    <tr>\n",
              "      <th>2188812</th>\n",
              "      <td>1.3.6.1.4.1.14519.5.2.1.6279.6001.202187810895...</td>\n",
              "      <td>118.180000</td>\n",
              "      <td>-42.910000</td>\n",
              "      <td>-247.440000</td>\n",
              "    </tr>\n",
              "    <tr>\n",
              "      <th>2459476</th>\n",
              "      <td>1.3.6.1.4.1.14519.5.2.1.6279.6001.503980049263...</td>\n",
              "      <td>-112.420630</td>\n",
              "      <td>37.648160</td>\n",
              "      <td>-67.928064</td>\n",
              "    </tr>\n",
              "  </tbody>\n",
              "</table>\n",
              "<p>6877 rows × 4 columns</p>\n",
              "</div>\n",
              "      <button class=\"colab-df-convert\" onclick=\"convertToInteractive('df-022edd72-43b3-45e9-824f-dd51395f11b2')\"\n",
              "              title=\"Convert this dataframe to an interactive table.\"\n",
              "              style=\"display:none;\">\n",
              "        \n",
              "  <svg xmlns=\"http://www.w3.org/2000/svg\" height=\"24px\"viewBox=\"0 0 24 24\"\n",
              "       width=\"24px\">\n",
              "    <path d=\"M0 0h24v24H0V0z\" fill=\"none\"/>\n",
              "    <path d=\"M18.56 5.44l.94 2.06.94-2.06 2.06-.94-2.06-.94-.94-2.06-.94 2.06-2.06.94zm-11 1L8.5 8.5l.94-2.06 2.06-.94-2.06-.94L8.5 2.5l-.94 2.06-2.06.94zm10 10l.94 2.06.94-2.06 2.06-.94-2.06-.94-.94-2.06-.94 2.06-2.06.94z\"/><path d=\"M17.41 7.96l-1.37-1.37c-.4-.4-.92-.59-1.43-.59-.52 0-1.04.2-1.43.59L10.3 9.45l-7.72 7.72c-.78.78-.78 2.05 0 2.83L4 21.41c.39.39.9.59 1.41.59.51 0 1.02-.2 1.41-.59l7.78-7.78 2.81-2.81c.8-.78.8-2.07 0-2.86zM5.41 20L4 18.59l7.72-7.72 1.47 1.35L5.41 20z\"/>\n",
              "  </svg>\n",
              "      </button>\n",
              "      \n",
              "  <style>\n",
              "    .colab-df-container {\n",
              "      display:flex;\n",
              "      flex-wrap:wrap;\n",
              "      gap: 12px;\n",
              "    }\n",
              "\n",
              "    .colab-df-convert {\n",
              "      background-color: #E8F0FE;\n",
              "      border: none;\n",
              "      border-radius: 50%;\n",
              "      cursor: pointer;\n",
              "      display: none;\n",
              "      fill: #1967D2;\n",
              "      height: 32px;\n",
              "      padding: 0 0 0 0;\n",
              "      width: 32px;\n",
              "    }\n",
              "\n",
              "    .colab-df-convert:hover {\n",
              "      background-color: #E2EBFA;\n",
              "      box-shadow: 0px 1px 2px rgba(60, 64, 67, 0.3), 0px 1px 3px 1px rgba(60, 64, 67, 0.15);\n",
              "      fill: #174EA6;\n",
              "    }\n",
              "\n",
              "    [theme=dark] .colab-df-convert {\n",
              "      background-color: #3B4455;\n",
              "      fill: #D2E3FC;\n",
              "    }\n",
              "\n",
              "    [theme=dark] .colab-df-convert:hover {\n",
              "      background-color: #434B5C;\n",
              "      box-shadow: 0px 1px 3px 1px rgba(0, 0, 0, 0.15);\n",
              "      filter: drop-shadow(0px 1px 2px rgba(0, 0, 0, 0.3));\n",
              "      fill: #FFFFFF;\n",
              "    }\n",
              "  </style>\n",
              "\n",
              "      <script>\n",
              "        const buttonEl =\n",
              "          document.querySelector('#df-022edd72-43b3-45e9-824f-dd51395f11b2 button.colab-df-convert');\n",
              "        buttonEl.style.display =\n",
              "          google.colab.kernel.accessAllowed ? 'block' : 'none';\n",
              "\n",
              "        async function convertToInteractive(key) {\n",
              "          const element = document.querySelector('#df-022edd72-43b3-45e9-824f-dd51395f11b2');\n",
              "          const dataTable =\n",
              "            await google.colab.kernel.invokeFunction('convertToInteractive',\n",
              "                                                     [key], {});\n",
              "          if (!dataTable) return;\n",
              "\n",
              "          const docLinkHtml = 'Like what you see? Visit the ' +\n",
              "            '<a target=\"_blank\" href=https://colab.research.google.com/notebooks/data_table.ipynb>data table notebook</a>'\n",
              "            + ' to learn more about interactive tables.';\n",
              "          element.innerHTML = '';\n",
              "          dataTable['output_type'] = 'display_data';\n",
              "          await google.colab.output.renderOutput(dataTable, element);\n",
              "          const docLink = document.createElement('div');\n",
              "          docLink.innerHTML = docLinkHtml;\n",
              "          element.appendChild(docLink);\n",
              "        }\n",
              "      </script>\n",
              "    </div>\n",
              "  </div>\n",
              "  "
            ]
          },
          "metadata": {},
          "execution_count": 40
        }
      ]
    },
    {
      "cell_type": "code",
      "metadata": {
        "id": "LNSgvBHlxTxy",
        "outputId": "9a9aacca-b442-4b4f-8d66-b2fabe77e61d",
        "colab": {
          "base_uri": "https://localhost:8080/",
          "height": 0
        }
      },
      "source": [
        "y_train_new"
      ],
      "execution_count": 41,
      "outputs": [
        {
          "output_type": "execute_result",
          "data": {
            "text/plain": [
              "59270      0.0\n",
              "150277     0.0\n",
              "432208     0.0\n",
              "423122     0.0\n",
              "344581     0.0\n",
              "          ... \n",
              "2436163    1.0\n",
              "2013078    1.0\n",
              "2352132    1.0\n",
              "2188812    1.0\n",
              "2459476    1.0\n",
              "Name: class, Length: 6877, dtype: float64"
            ]
          },
          "metadata": {},
          "execution_count": 41
        }
      ]
    },
    {
      "cell_type": "code",
      "metadata": {
        "id": "rmmL5HsKXBSM",
        "outputId": "09a124e5-98f0-46a6-d321-b486420c65fe",
        "colab": {
          "base_uri": "https://localhost:8080/",
          "height": 0
        }
      },
      "source": [
        "X_train_new.index"
      ],
      "execution_count": 42,
      "outputs": [
        {
          "output_type": "execute_result",
          "data": {
            "text/plain": [
              "Int64Index([  59270,  150277,  432208,  423122,  344581,   75111,  246217,\n",
              "             292479,  147683,  468235,\n",
              "            ...\n",
              "            2282167, 2300642, 2021354, 2461166, 2332952, 2436163, 2013078,\n",
              "            2352132, 2188812, 2459476],\n",
              "           dtype='int64', length=6877)"
            ]
          },
          "metadata": {},
          "execution_count": 42
        }
      ]
    },
    {
      "cell_type": "code",
      "metadata": {
        "id": "xofeRiaYXNpv"
      },
      "source": [
        "import scipy.misc"
      ],
      "execution_count": 43,
      "outputs": []
    },
    {
      "cell_type": "code",
      "metadata": {
        "id": "GA8lDGgMu2pU"
      },
      "source": [
        "import cv2"
      ],
      "execution_count": 44,
      "outputs": []
    },
    {
      "cell_type": "code",
      "metadata": {
        "id": "hW7F3bdyXBai"
      },
      "source": [
        "#from scipy.misc import imresize\n",
        "from PIL import ImageEnhance\n",
        "\n",
        "class PreProcessing(object):\n",
        "    def __init__(self, image = None):\n",
        "        self.image = image\n",
        "    \n",
        "    def subtract_mean(self):\n",
        "        self.image = (self.image/255.0 - 0.25)*255\n",
        "        return self.image\n",
        "    \n",
        "    def downsample_data(self):\n",
        "        self.image = cv2.resize(self.image, (40,40), interpolation = cv2.INTER_AREA)\n",
        "        return self.image\n",
        "\n",
        "    def upsample_data(self):\n",
        "        self.image = cv2.resize(self.image, (224, 224), interpolation = cv2.INTER_CUBIC)\n",
        "        return self.image"
      ],
      "execution_count": 45,
      "outputs": []
    },
    {
      "cell_type": "markdown",
      "metadata": {
        "id": "EPdjKj6KxdGN"
      },
      "source": [
        "Imported the preprocessed and segmented dataset"
      ]
    },
    {
      "cell_type": "code",
      "metadata": {
        "id": "ZSJ3n1QOXmhE",
        "outputId": "7607aaff-eb98-460f-c3b6-2183b1ce722c",
        "colab": {
          "base_uri": "https://localhost:8080/",
          "height": 647
        }
      },
      "source": [
        "dirName = '/content/gdrive/My Drive/Project/Dataset_LUNA_16/data/train/'\n",
        "plt.figure(figsize = (10,10))\n",
        "inp = imread(dirName + 'image_'+ str(30517) + '.jpg')\n",
        "print (\"Original shape of input image: \", inp.shape)\n",
        "plt.subplot(221)\n",
        "plt.imshow(inp, cmap='gray')\n",
        "plt.grid(False)\n",
        "\n",
        "inp = PreProcessing(inp).upsample_data()\n",
        "Pp = PreProcessing(inp)\n",
        "\n",
        "inp2 = Pp.subtract_mean()\n",
        "plt.subplot(222)\n",
        "plt.imshow(inp2, cmap='gray')\n",
        "plt.grid(False)\n",
        "\n",
        "inp3 = ImageEnhance.Contrast(Image.fromarray(inp))\n",
        "contrast = 1.5\n",
        "inp3 = inp3.enhance(contrast)\n",
        "plt.subplot(223)\n",
        "plt.imshow(inp3, cmap='gray')\n",
        "plt.grid(False)\n",
        "\n",
        "inp4 = Pp.downsample_data()\n",
        "plt.subplot(224)\n",
        "plt.imshow(inp4,cmap='gray')\n",
        "plt.grid(False)\n"
      ],
      "execution_count": 46,
      "outputs": [
        {
          "output_type": "stream",
          "name": "stderr",
          "text": [
            "WARNING:matplotlib.image:Clipping input data to the valid range for imshow with RGB data ([0..1] for floats or [0..255] for integers).\n",
            "WARNING:matplotlib.image:Clipping input data to the valid range for imshow with RGB data ([0..1] for floats or [0..255] for integers).\n"
          ]
        },
        {
          "output_type": "stream",
          "name": "stdout",
          "text": [
            "Original shape of input image:  (50, 50, 3)\n"
          ]
        },
        {
          "output_type": "display_data",
          "data": {
            "text/plain": [
              "<Figure size 720x720 with 4 Axes>"
            ],
            "image/png": "[encoded data removed]"
          },
          "metadata": {
            "needs_background": "light"
          }
        }
      ]
    },
    {
      "cell_type": "code",
      "metadata": {
        "id": "oS3Usiyz9hvt",
        "outputId": "7f3a1de5-3e96-4bc7-e7b6-a2f56ad1b4dc",
        "colab": {
          "base_uri": "https://localhost:8080/",
          "height": 0
        }
      },
      "source": [
        "inp.shape"
      ],
      "execution_count": 47,
      "outputs": [
        {
          "output_type": "execute_result",
          "data": {
            "text/plain": [
              "(224, 224, 3)"
            ]
          },
          "metadata": {},
          "execution_count": 47
        }
      ]
    },
    {
      "cell_type": "code",
      "metadata": {
        "id": "itmrK-Pd9kEA",
        "outputId": "f96e1b02-f4e9-4a84-b3a1-723a228b489b",
        "colab": {
          "base_uri": "https://localhost:8080/",
          "height": 0
        }
      },
      "source": [
        "inp.dtype"
      ],
      "execution_count": 48,
      "outputs": [
        {
          "output_type": "execute_result",
          "data": {
            "text/plain": [
              "dtype('uint8')"
            ]
          },
          "metadata": {},
          "execution_count": 48
        }
      ]
    },
    {
      "cell_type": "code",
      "metadata": {
        "id": "K1-6dbeHX5KN"
      },
      "source": [
        "#!pip install tflearn==0.3.2\n",
        "#import tflearn"
      ],
      "execution_count": 49,
      "outputs": []
    },
    {
      "cell_type": "code",
      "metadata": {
        "id": "u4VDRK6YX8qK",
        "outputId": "3a9e0950-c0a9-431c-96e3-a9d2a5f3c1c3",
        "colab": {
          "base_uri": "https://localhost:8080/",
          "height": 0
        }
      },
      "source": [
        "y_train_new.values.astype(int)"
      ],
      "execution_count": 50,
      "outputs": [
        {
          "output_type": "execute_result",
          "data": {
            "text/plain": [
              "array([0, 0, 0, ..., 1, 1, 1])"
            ]
          },
          "metadata": {},
          "execution_count": 50
        }
      ]
    },
    {
      "cell_type": "markdown",
      "metadata": {
        "id": "KJKCoyavtMGT"
      },
      "source": [
        "Training"
      ]
    },
    {
      "cell_type": "code",
      "metadata": {
        "id": "RDzOhxO8YWbd",
        "outputId": "adca8338-f84e-45b2-aa24-8cb39113ba20",
        "colab": {
          "base_uri": "https://localhost:8080/",
          "height": 36
        }
      },
      "source": [
        "dirName"
      ],
      "execution_count": 51,
      "outputs": [
        {
          "output_type": "execute_result",
          "data": {
            "text/plain": [
              "'/content/gdrive/My Drive/Project/Dataset_LUNA_16/data/train/'"
            ],
            "application/vnd.google.colaboratory.intrinsic+json": {
              "type": "string"
            }
          },
          "metadata": {},
          "execution_count": 51
        }
      ]
    },
    {
      "cell_type": "code",
      "metadata": {
        "id": "dmaOUQxBWDU8",
        "outputId": "2cadbb2e-6733-411b-80b2-137153e8fa01",
        "colab": {
          "base_uri": "https://localhost:8080/",
          "height": 0
        }
      },
      "source": [
        "train_filenames =\\\n",
        "X_train_new.index.to_series().apply(lambda x:\\\n",
        "                                    '/content/gdrive/My Drive/Project/Dataset_LUNA_16/data/train/image_'+str(x)+'.jpg')\n",
        "train_filenames.values.astype(str)"
      ],
      "execution_count": 52,
      "outputs": [
        {
          "output_type": "execute_result",
          "data": {
            "text/plain": [
              "array(['/content/gdrive/My Drive/Project/Dataset_LUNA_16/data/train/image_59270.jpg',\n",
              "       '/content/gdrive/My Drive/Project/Dataset_LUNA_16/data/train/image_150277.jpg',\n",
              "       '/content/gdrive/My Drive/Project/Dataset_LUNA_16/data/train/image_432208.jpg',\n",
              "       ...,\n",
              "       '/content/gdrive/My Drive/Project/Dataset_LUNA_16/data/train/image_2352132.jpg',\n",
              "       '/content/gdrive/My Drive/Project/Dataset_LUNA_16/data/train/image_2188812.jpg',\n",
              "       '/content/gdrive/My Drive/Project/Dataset_LUNA_16/data/train/image_2459476.jpg'],\n",
              "      dtype='<U77')"
            ]
          },
          "metadata": {},
          "execution_count": 52
        }
      ]
    },
    {
      "cell_type": "code",
      "metadata": {
        "id": "tDYKxaONilee",
        "outputId": "adc66a3b-af89-40aa-ea9a-8e511ca9bac1",
        "colab": {
          "base_uri": "https://localhost:8080/",
          "height": 0
        }
      },
      "source": [
        "train_filenames.values.astype(str)"
      ],
      "execution_count": 53,
      "outputs": [
        {
          "output_type": "execute_result",
          "data": {
            "text/plain": [
              "array(['/content/gdrive/My Drive/Project/Dataset_LUNA_16/data/train/image_59270.jpg',\n",
              "       '/content/gdrive/My Drive/Project/Dataset_LUNA_16/data/train/image_150277.jpg',\n",
              "       '/content/gdrive/My Drive/Project/Dataset_LUNA_16/data/train/image_432208.jpg',\n",
              "       ...,\n",
              "       '/content/gdrive/My Drive/Project/Dataset_LUNA_16/data/train/image_2352132.jpg',\n",
              "       '/content/gdrive/My Drive/Project/Dataset_LUNA_16/data/train/image_2188812.jpg',\n",
              "       '/content/gdrive/My Drive/Project/Dataset_LUNA_16/data/train/image_2459476.jpg'],\n",
              "      dtype='<U77')"
            ]
          },
          "metadata": {},
          "execution_count": 53
        }
      ]
    },
    {
      "cell_type": "code",
      "metadata": {
        "id": "trYUOgm8WEsT",
        "cellView": "code"
      },
      "source": [
        "#@title Default title text\n",
        "dataset_file = 'traindatalabels.txt'\n",
        "filenames = train_filenames.values.astype(str)\n",
        "train_filenames =X_train_new.index.to_series().apply(lambda x:filenames)\n",
        "labels = y_train_new.values.astype(int)\n",
        "traindata = np.zeros(filenames.size,\\\n",
        "                     dtype=[('var1', 'S36'), ('var2', int)])\n",
        "traindata['var1'] = filenames\n",
        "traindata['var2'] = labels\n",
        "\n",
        "np.savetxt(dataset_file, traindata, fmt=\"%10s %d\")"
      ],
      "execution_count": 54,
      "outputs": []
    },
    {
      "cell_type": "code",
      "metadata": {
        "id": "YltbIGH1ycMe",
        "outputId": "9a84242c-dddf-45fc-995b-9cbf83b0b8c6",
        "colab": {
          "base_uri": "https://localhost:8080/",
          "height": 0
        }
      },
      "source": [
        "traindata"
      ],
      "execution_count": 55,
      "outputs": [
        {
          "output_type": "execute_result",
          "data": {
            "text/plain": [
              "array([(b'/content/gdrive/My Drive/Project/Dat', 0),\n",
              "       (b'/content/gdrive/My Drive/Project/Dat', 0),\n",
              "       (b'/content/gdrive/My Drive/Project/Dat', 0), ...,\n",
              "       (b'/content/gdrive/My Drive/Project/Dat', 1),\n",
              "       (b'/content/gdrive/My Drive/Project/Dat', 1),\n",
              "       (b'/content/gdrive/My Drive/Project/Dat', 1)],\n",
              "      dtype=[('var1', 'S36'), ('var2', '<i8')])"
            ]
          },
          "metadata": {},
          "execution_count": 55
        }
      ]
    },
    {
      "cell_type": "code",
      "metadata": {
        "id": "oROsag4Kn8PE"
      },
      "source": [
        "#import tflearn"
      ],
      "execution_count": 56,
      "outputs": []
    },
    {
      "cell_type": "code",
      "metadata": {
        "id": "WkKFOp_5WHdq"
      },
      "source": [
        "# Build a HDF5 dataset (only required once)\n",
        "#from tflearn.data_utils import build_hdf5_image_dataset\n",
        "#build_hdf5_image_dataset(dataset_file, image_shape=(50, 50), mode='file', output_path='traindataset.h5', categorical_labels=True, normalize=True)"
      ],
      "execution_count": 57,
      "outputs": []
    },
    {
      "cell_type": "code",
      "metadata": {
        "id": "UhteYbaEcyb0"
      },
      "source": [
        "# Load HDF5 dataset\n",
        "import h5py\n",
        "h5f = h5py.File('/content/gdrive/My Drive/Project/Dataset_LUNA_16/data/traindataset.h5', 'r')\n",
        "X_train_images = h5f['X']\n",
        "Y_train_labels = h5f['Y']\n",
        "\n",
        "h5f2 = h5py.File('/content/gdrive/My Drive/Project/Dataset_LUNA_16/data/valdataset.h5', 'r')\n",
        "X_val_images = h5f2['X']\n",
        "Y_val_labels = h5f2['Y']"
      ],
      "execution_count": 58,
      "outputs": []
    },
    {
      "cell_type": "code",
      "metadata": {
        "id": "hhZ9hy_SzF13",
        "outputId": "fe399ebe-4571-4ec0-88a3-c26b6c4b0a46",
        "colab": {
          "base_uri": "https://localhost:8080/",
          "height": 0
        }
      },
      "source": [
        "X_train_images"
      ],
      "execution_count": 59,
      "outputs": [
        {
          "output_type": "execute_result",
          "data": {
            "text/plain": [
              "<HDF5 dataset \"X\": shape (5187, 50, 50), type \"<f4\">"
            ]
          },
          "metadata": {},
          "execution_count": 59
        }
      ]
    },
    {
      "cell_type": "code",
      "metadata": {
        "id": "tQN98hNczK__",
        "outputId": "b939d98f-e88e-48f3-ec3e-5b247c595adb",
        "colab": {
          "base_uri": "https://localhost:8080/",
          "height": 0
        }
      },
      "source": [
        "Y_train_labels"
      ],
      "execution_count": 60,
      "outputs": [
        {
          "output_type": "execute_result",
          "data": {
            "text/plain": [
              "<HDF5 dataset \"Y\": shape (5187, 2), type \"<f4\">"
            ]
          },
          "metadata": {},
          "execution_count": 60
        }
      ]
    },
    {
      "cell_type": "markdown",
      "metadata": {
        "id": "g12MYSUn8qN2"
      },
      "source": [
        "Testing_image_processing"
      ]
    },
    {
      "cell_type": "code",
      "metadata": {
        "id": "tXU1Hceb5DX7"
      },
      "source": [
        "X_train_processing = np.array(X_train_images)\n",
        "X_val_processing = np.array(X_val_images)"
      ],
      "execution_count": 61,
      "outputs": []
    },
    {
      "cell_type": "code",
      "metadata": {
        "id": "oepsu2Lh5Pv1",
        "outputId": "c4591f99-4a9e-4c93-81de-18e0f0f966b0",
        "colab": {
          "base_uri": "https://localhost:8080/",
          "height": 0
        }
      },
      "source": [
        "print(X_train_processing.shape)\n",
        "print(X_val_processing.shape)"
      ],
      "execution_count": 62,
      "outputs": [
        {
          "output_type": "stream",
          "name": "stdout",
          "text": [
            "(5187, 50, 50)\n",
            "(1297, 50, 50)\n"
          ]
        }
      ]
    },
    {
      "cell_type": "code",
      "metadata": {
        "id": "xvLu-z0S5POp",
        "outputId": "3ca4c703-4061-4a42-f170-60537ee97cf9",
        "colab": {
          "base_uri": "https://localhost:8080/",
          "height": 0
        }
      },
      "source": [
        "print(X_train_processing.dtype)\n",
        "print(X_val_processing.dtype)"
      ],
      "execution_count": 63,
      "outputs": [
        {
          "output_type": "stream",
          "name": "stdout",
          "text": [
            "float32\n",
            "float32\n"
          ]
        }
      ]
    },
    {
      "cell_type": "code",
      "metadata": {
        "id": "wHiic6xM6RKG"
      },
      "source": [
        "img_test = X_train_processing[1000]\n",
        "img_test_downsampled = PreProcessing(img_test).downsample_data()\n",
        "img_test_upsampled = PreProcessing(img_test).upsample_data()"
      ],
      "execution_count": 64,
      "outputs": []
    },
    {
      "cell_type": "code",
      "metadata": {
        "id": "S7-bKCkeuijV",
        "outputId": "e584c96a-ee3a-48eb-e867-8c946adb1764",
        "colab": {
          "base_uri": "https://localhost:8080/",
          "height": 0
        }
      },
      "source": [
        "print(Y_train_labels[1000])"
      ],
      "execution_count": 65,
      "outputs": [
        {
          "output_type": "stream",
          "name": "stdout",
          "text": [
            "[1. 0.]\n"
          ]
        }
      ]
    },
    {
      "cell_type": "code",
      "metadata": {
        "id": "npm_nTN97zw4",
        "outputId": "d211b8e0-65ec-46d6-9b54-e844d4c695ad",
        "colab": {
          "base_uri": "https://localhost:8080/",
          "height": 220
        }
      },
      "source": [
        "plt.subplot(121)\n",
        "plt.imshow(img_test,cmap='gray')\n",
        "plt.subplot(122)\n",
        "plt.imshow(img_test_downsampled,cmap='gray')"
      ],
      "execution_count": 66,
      "outputs": [
        {
          "output_type": "execute_result",
          "data": {
            "text/plain": [
              "<matplotlib.image.AxesImage at 0x7f5eeab0f880>"
            ]
          },
          "metadata": {},
          "execution_count": 66
        },
        {
          "output_type": "display_data",
          "data": {
            "text/plain": [
              "<Figure size 432x288 with 2 Axes>"
            ],
            "image/png": "[encoded data removed]"
          },
          "metadata": {
            "needs_background": "light"
          }
        }
      ]
    },
    {
      "cell_type": "code",
      "metadata": {
        "id": "-HH5au8b6RHT",
        "outputId": "bcb1bfc7-1945-4d75-ac1b-ea3c4b746b67",
        "colab": {
          "base_uri": "https://localhost:8080/",
          "height": 221
        }
      },
      "source": [
        "plt.subplot(121)\n",
        "plt.imshow(img_test,cmap='gray')\n",
        "plt.subplot(122)\n",
        "plt.imshow(img_test_upsampled,cmap='gray')"
      ],
      "execution_count": 67,
      "outputs": [
        {
          "output_type": "execute_result",
          "data": {
            "text/plain": [
              "<matplotlib.image.AxesImage at 0x7f5eeaa58f40>"
            ]
          },
          "metadata": {},
          "execution_count": 67
        },
        {
          "output_type": "display_data",
          "data": {
            "text/plain": [
              "<Figure size 432x288 with 2 Axes>"
            ],
            "image/png": "[encoded data removed]"
          },
          "metadata": {
            "needs_background": "light"
          }
        }
      ]
    },
    {
      "cell_type": "code",
      "metadata": {
        "id": "ickGDx2q6B4W",
        "outputId": "4862bb05-ec7c-4fb9-b933-41ec1d79c438",
        "colab": {
          "base_uri": "https://localhost:8080/",
          "height": 221
        }
      },
      "source": [
        "img_test_subtracted_mean = PreProcessing(img_test_upsampled).subtract_mean()\n",
        "plt.subplot(121)\n",
        "plt.imshow(img_test_upsampled,cmap='gray')\n",
        "plt.subplot(122)\n",
        "plt.imshow(img_test_subtracted_mean,cmap='gray')"
      ],
      "execution_count": 68,
      "outputs": [
        {
          "output_type": "execute_result",
          "data": {
            "text/plain": [
              "<matplotlib.image.AxesImage at 0x7f5eea969d90>"
            ]
          },
          "metadata": {},
          "execution_count": 68
        },
        {
          "output_type": "display_data",
          "data": {
            "text/plain": [
              "<Figure size 432x288 with 2 Axes>"
            ],
            "image/png": "[encoded data removed]"
          },
          "metadata": {
            "needs_background": "light"
          }
        }
      ]
    },
    {
      "cell_type": "markdown",
      "metadata": {
        "id": "bEfzN3gA994w"
      },
      "source": [
        "testing cv2 BRISK algorithm"
      ]
    },
    {
      "cell_type": "markdown",
      "metadata": {
        "id": "M6cGpWBX_QZR"
      },
      "source": [
        "need some work and research"
      ]
    },
    {
      "cell_type": "code",
      "metadata": {
        "id": "WLyVQjfN98pS",
        "outputId": "1c4f0028-2f52-4ac3-9806-5a7c1224b930",
        "colab": {
          "base_uri": "https://localhost:8080/",
          "height": 286
        }
      },
      "source": [
        "import cv2\n",
        "brisk = cv2.BRISK_create(50)\n",
        "img_BRISK_1 = img_test_upsampled.copy()\n",
        "rgb = cv2.cvtColor(img_BRISK_1, cv2.COLOR_GRAY2RGB)\n",
        "img_BRISK_2 = rgb*1000\n",
        "img_BRISK_3 = np.array(img_BRISK_2, dtype=np.uint8)\n",
        "img_contr_copy = img_BRISK_3.copy()\n",
        "\n",
        "plt.subplot(221)\n",
        "plt.imshow(img_BRISK_3, cmap='gray')\n",
        "kpts_1, des_1 = brisk.detectAndCompute(img_BRISK_3, None)\n",
        "\n",
        "image_BRISK_1 = cv2.drawKeypoints(image=img_BRISK_3, outImage=img_BRISK_3, keypoints=kpts_1, flags=cv2.DRAW_MATCHES_FLAGS_DRAW_RICH_KEYPOINTS)\n",
        "plt.subplot(222)\n",
        "plt.imshow(image_BRISK_1, cmap='gray')\n",
        "\n",
        "\n",
        "# with enhanced contrast\n",
        "\n",
        "inp_contr = ImageEnhance.Contrast(Image.fromarray(img_contr_copy))\n",
        "contrast = 1.5\n",
        "img_contr = inp_contr.enhance(contrast)\n",
        "plt.subplot(223)\n",
        "plt.imshow(img_contr, cmap='gray')\n",
        "img_BRISK_4 = np.array(img_contr)\n",
        "kpts_2, des_2 = brisk.detectAndCompute(img_BRISK_4, None)\n",
        "\n",
        "image_BRISK_2 = cv2.drawKeypoints(image=img_BRISK_4, outImage=img_BRISK_4, keypoints=kpts_2, flags=cv2.DRAW_MATCHES_FLAGS_DRAW_RICH_KEYPOINTS)\n",
        "plt.subplot(224)\n",
        "plt.imshow(image_BRISK_2, cmap='gray')"
      ],
      "execution_count": 69,
      "outputs": [
        {
          "output_type": "execute_result",
          "data": {
            "text/plain": [
              "<matplotlib.image.AxesImage at 0x7f5ede754fa0>"
            ]
          },
          "metadata": {},
          "execution_count": 69
        },
        {
          "output_type": "display_data",
          "data": {
            "text/plain": [
              "<Figure size 432x288 with 4 Axes>"
            ],
            "image/png": "[encoded data removed]"
          },
          "metadata": {
            "needs_background": "light"
          }
        }
      ]
    },
    {
      "cell_type": "markdown",
      "metadata": {
        "id": "FB2UWMmh6nzP"
      },
      "source": [
        "test both with other CV2 algorithms and then implement all those algorithms with DL model self defined."
      ]
    },
    {
      "cell_type": "markdown",
      "metadata": {
        "id": "v4RyjtpF8ugu"
      },
      "source": [
        "Converting to training dataset"
      ]
    },
    {
      "cell_type": "code",
      "metadata": {
        "id": "8QSDTBsW08f7"
      },
      "source": [
        "X_train_images_np = np.expand_dims(np.array(X_train_images), axis = 3)\n",
        "y_train_labels_np = np.array(Y_train_labels)\n",
        "X_val_images_np = np.expand_dims(np.array(X_val_images), axis = 3)\n",
        "y_val_labels_np = np.array(Y_val_labels)"
      ],
      "execution_count": 70,
      "outputs": []
    },
    {
      "cell_type": "code",
      "metadata": {
        "id": "GU-6Li9w1GNm",
        "outputId": "9301e02a-c42e-4c4a-f05b-4e201f493680",
        "colab": {
          "base_uri": "https://localhost:8080/",
          "height": 0
        }
      },
      "source": [
        "print(X_train_images_np.shape)\n",
        "print(y_train_labels_np.shape)\n",
        "print(X_val_images_np.shape)\n",
        "print(y_val_labels_np.shape)"
      ],
      "execution_count": 71,
      "outputs": [
        {
          "output_type": "stream",
          "name": "stdout",
          "text": [
            "(5187, 50, 50, 1)\n",
            "(5187, 2)\n",
            "(1297, 50, 50, 1)\n",
            "(1297, 2)\n"
          ]
        }
      ]
    },
    {
      "cell_type": "code",
      "metadata": {
        "id": "rF3FNjDK4Qsd",
        "outputId": "64c8c0b3-caaa-4f54-df1a-d6d2d792258b",
        "colab": {
          "base_uri": "https://localhost:8080/",
          "height": 0
        }
      },
      "source": [
        "print(X_train_images_np.dtype)\n",
        "print(y_train_labels_np.dtype)\n",
        "print(X_val_images_np.dtype)\n",
        "print(y_val_labels_np.dtype)"
      ],
      "execution_count": 72,
      "outputs": [
        {
          "output_type": "stream",
          "name": "stdout",
          "text": [
            "float32\n",
            "float32\n",
            "float32\n",
            "float32\n"
          ]
        }
      ]
    },
    {
      "cell_type": "markdown",
      "metadata": {
        "id": "PupRq7Y67i0X"
      },
      "source": [
        "processing for test dataset"
      ]
    },
    {
      "cell_type": "code",
      "metadata": {
        "id": "p7PPI0q27npv"
      },
      "source": [
        "h5f2 = h5py.File('/content/gdrive/My Drive/Project/Dataset_LUNA_16/data/testdataset.h5', 'r')\n",
        "X_test_images = h5f2['X']\n",
        "Y_test_labels = h5f2['Y']"
      ],
      "execution_count": 73,
      "outputs": []
    },
    {
      "cell_type": "code",
      "metadata": {
        "id": "TuFFgBEj7nvp"
      },
      "source": [
        "X_test_images_np = np.expand_dims(np.array(X_test_images), axis = 3)\n",
        "y_test_labels_np = np.array(Y_test_labels)"
      ],
      "execution_count": 74,
      "outputs": []
    },
    {
      "cell_type": "code",
      "metadata": {
        "id": "BT_ueskk7nmP",
        "outputId": "180492f2-4556-4eef-fee5-a05cff7d62c3",
        "colab": {
          "base_uri": "https://localhost:8080/",
          "height": 0
        }
      },
      "source": [
        "print(X_test_images_np.shape)\n",
        "print(y_test_labels_np.shape)"
      ],
      "execution_count": 75,
      "outputs": [
        {
          "output_type": "stream",
          "name": "stdout",
          "text": [
            "(1622, 50, 50, 1)\n",
            "(1622, 2)\n"
          ]
        }
      ]
    },
    {
      "cell_type": "code",
      "metadata": {
        "id": "NDLWNTmf8Klg",
        "outputId": "39b6a4ce-1642-4720-b0cb-07427d0f3c49",
        "colab": {
          "base_uri": "https://localhost:8080/",
          "height": 0
        }
      },
      "source": [
        "print(X_test_images_np.dtype)\n",
        "print(y_test_labels_np.dtype)"
      ],
      "execution_count": 76,
      "outputs": [
        {
          "output_type": "stream",
          "name": "stdout",
          "text": [
            "float32\n",
            "float32\n"
          ]
        }
      ]
    },
    {
      "cell_type": "markdown",
      "metadata": {
        "id": "7GZwVgqA3sZn"
      },
      "source": [
        "Model Making and Model Training"
      ]
    },
    {
      "cell_type": "code",
      "metadata": {
        "id": "0hAfv_gD2a0R"
      },
      "source": [
        "from keras.models import Sequential\n",
        "from keras.layers import Conv2D,MaxPooling2D,Dense,Flatten,Dropout,BatchNormalization,AveragePooling2D\n",
        "from keras.optimizers import SGD\n",
        "from keras.preprocessing.image import ImageDataGenerator"
      ],
      "execution_count": 77,
      "outputs": []
    },
    {
      "cell_type": "markdown",
      "metadata": {
        "id": "5rBDiEJoAJL5"
      },
      "source": [
        "model based on deep cnn"
      ]
    },
    {
      "cell_type": "code",
      "metadata": {
        "id": "q1XsHT9iuLSB"
      },
      "source": [
        "def define_model():\n",
        "\tmodel = Sequential()\n",
        "\tmodel.add(Conv2D(32, (3, 3), activation='relu', kernel_initializer='he_uniform', padding='same', input_shape=(50, 50, 1)))\n",
        "\tmodel.add(BatchNormalization())\n",
        "\tmodel.add(Conv2D(32, (3, 3), activation='relu', kernel_initializer='he_uniform', padding='same'))\n",
        "\tmodel.add(BatchNormalization())\n",
        "\tmodel.add(MaxPooling2D((2, 2)))\n",
        "\tmodel.add(Dropout(0.1))\n",
        "\tmodel.add(Conv2D(64, (3, 3), activation='relu', kernel_initializer='he_uniform', padding='same'))\n",
        "\tmodel.add(BatchNormalization())\n",
        "\tmodel.add(Conv2D(64, (3, 3), activation='relu', kernel_initializer='he_uniform', padding='same'))\n",
        "\tmodel.add(BatchNormalization())\n",
        "\tmodel.add(MaxPooling2D((2, 2)))\n",
        "\tmodel.add(Dropout(0.2))\n",
        "\tmodel.add(Conv2D(128, (3, 3), activation='relu', kernel_initializer='he_uniform', padding='same'))\n",
        "\tmodel.add(BatchNormalization())\n",
        "\tmodel.add(Conv2D(128, (3, 3), activation='relu', kernel_initializer='he_uniform', padding='same'))\n",
        "\tmodel.add(BatchNormalization())\n",
        "\tmodel.add(MaxPooling2D((2, 2)))\n",
        "\tmodel.add(Dropout(0.3))\n",
        "\tmodel.add(Conv2D(128, (3, 3), activation='relu', kernel_initializer='he_uniform', padding='same'))\n",
        "\tmodel.add(BatchNormalization())\n",
        "\tmodel.add(Conv2D(128, (3, 3), activation='relu', kernel_initializer='he_uniform', padding='same'))\n",
        "\tmodel.add(BatchNormalization())\n",
        "\tmodel.add(MaxPooling2D((2, 2)))\n",
        "\tmodel.add(Dropout(0.4))\n",
        "\tmodel.add(Conv2D(128, (3, 3), activation='relu', kernel_initializer='he_uniform', padding='same'))\n",
        "\tmodel.add(BatchNormalization())\n",
        "\tmodel.add(Conv2D(128, (3, 3), activation='relu', kernel_initializer='he_uniform', padding='same'))\n",
        "\tmodel.add(BatchNormalization())\n",
        "\tmodel.add(MaxPooling2D((2, 2)))\n",
        "\tmodel.add(Dropout(0.5))\n",
        "\tmodel.add(Flatten())\n",
        "\tmodel.add(Dense(128, activation='relu', kernel_initializer='he_uniform'))\n",
        "\tmodel.add(BatchNormalization())\n",
        "\tmodel.add(Dropout(0.5))\n",
        "\tmodel.add(Dense(128, activation='relu', kernel_initializer='he_uniform'));return model\n",
        "\n",
        "mobile = define_model()"
      ],
      "execution_count": 78,
      "outputs": []
    },
    {
      "cell_type": "code",
      "metadata": {
        "id": "mAU0INW385jw",
        "outputId": "186049d3-8346-4aff-a4d4-da83b10f1f1e",
        "colab": {
          "base_uri": "https://localhost:8080/",
          "height": 0
        }
      },
      "source": [
        "mobile.summary()"
      ],
      "execution_count": 79,
      "outputs": [
        {
          "output_type": "stream",
          "name": "stdout",
          "text": [
            "Model: \"sequential\"\n",
            "_________________________________________________________________\n",
            " Layer (type)                Output Shape              Param #   \n",
            "=================================================================\n",
            " conv2d (Conv2D)             (None, 50, 50, 32)        320       \n",
            "                                                                 \n",
            " batch_normalization (BatchN  (None, 50, 50, 32)       128       \n",
            " ormalization)                                                   \n",
            "                                                                 \n",
            " conv2d_1 (Conv2D)           (None, 50, 50, 32)        9248      \n",
            "                                                                 \n",
            " batch_normalization_1 (Batc  (None, 50, 50, 32)       128       \n",
            " hNormalization)                                                 \n",
            "                                                                 \n",
            " max_pooling2d (MaxPooling2D  (None, 25, 25, 32)       0         \n",
            " )                                                               \n",
            "                                                                 \n",
            " dropout (Dropout)           (None, 25, 25, 32)        0         \n",
            "                                                                 \n",
            " conv2d_2 (Conv2D)           (None, 25, 25, 64)        18496     \n",
            "                                                                 \n",
            " batch_normalization_2 (Batc  (None, 25, 25, 64)       256       \n",
            " hNormalization)                                                 \n",
            "                                                                 \n",
            " conv2d_3 (Conv2D)           (None, 25, 25, 64)        36928     \n",
            "                                                                 \n",
            " batch_normalization_3 (Batc  (None, 25, 25, 64)       256       \n",
            " hNormalization)                                                 \n",
            "                                                                 \n",
            " max_pooling2d_1 (MaxPooling  (None, 12, 12, 64)       0         \n",
            " 2D)                                                             \n",
            "                                                                 \n",
            " dropout_1 (Dropout)         (None, 12, 12, 64)        0         \n",
            "                                                                 \n",
            " conv2d_4 (Conv2D)           (None, 12, 12, 128)       73856     \n",
            "                                                                 \n",
            " batch_normalization_4 (Batc  (None, 12, 12, 128)      512       \n",
            " hNormalization)                                                 \n",
            "                                                                 \n",
            " conv2d_5 (Conv2D)           (None, 12, 12, 128)       147584    \n",
            "                                                                 \n",
            " batch_normalization_5 (Batc  (None, 12, 12, 128)      512       \n",
            " hNormalization)                                                 \n",
            "                                                                 \n",
            " max_pooling2d_2 (MaxPooling  (None, 6, 6, 128)        0         \n",
            " 2D)                                                             \n",
            "                                                                 \n",
            " dropout_2 (Dropout)         (None, 6, 6, 128)         0         \n",
            "                                                                 \n",
            " conv2d_6 (Conv2D)           (None, 6, 6, 128)         147584    \n",
            "                                                                 \n",
            " batch_normalization_6 (Batc  (None, 6, 6, 128)        512       \n",
            " hNormalization)                                                 \n",
            "                                                                 \n",
            " conv2d_7 (Conv2D)           (None, 6, 6, 128)         147584    \n",
            "                                                                 \n",
            " batch_normalization_7 (Batc  (None, 6, 6, 128)        512       \n",
            " hNormalization)                                                 \n",
            "                                                                 \n",
            " max_pooling2d_3 (MaxPooling  (None, 3, 3, 128)        0         \n",
            " 2D)                                                             \n",
            "                                                                 \n",
            " dropout_3 (Dropout)         (None, 3, 3, 128)         0         \n",
            "                                                                 \n",
            " conv2d_8 (Conv2D)           (None, 3, 3, 128)         147584    \n",
            "                                                                 \n",
            " batch_normalization_8 (Batc  (None, 3, 3, 128)        512       \n",
            " hNormalization)                                                 \n",
            "                                                                 \n",
            " conv2d_9 (Conv2D)           (None, 3, 3, 128)         147584    \n",
            "                                                                 \n",
            " batch_normalization_9 (Batc  (None, 3, 3, 128)        512       \n",
            " hNormalization)                                                 \n",
            "                                                                 \n",
            " max_pooling2d_4 (MaxPooling  (None, 1, 1, 128)        0         \n",
            " 2D)                                                             \n",
            "                                                                 \n",
            " dropout_4 (Dropout)         (None, 1, 1, 128)         0         \n",
            "                                                                 \n",
            " flatten (Flatten)           (None, 128)               0         \n",
            "                                                                 \n",
            " dense (Dense)               (None, 128)               16512     \n",
            "                                                                 \n",
            " batch_normalization_10 (Bat  (None, 128)              512       \n",
            " chNormalization)                                                \n",
            "                                                                 \n",
            " dropout_5 (Dropout)         (None, 128)               0         \n",
            "                                                                 \n",
            " dense_1 (Dense)             (None, 128)               16512     \n",
            "                                                                 \n",
            "=================================================================\n",
            "Total params: 914,144\n",
            "Trainable params: 911,968\n",
            "Non-trainable params: 2,176\n",
            "_________________________________________________________________\n"
          ]
        }
      ]
    },
    {
      "cell_type": "code",
      "metadata": {
        "id": "5K59YIqquV42",
        "colab": {
          "base_uri": "https://localhost:8080/",
          "height": 0
        },
        "outputId": "1fe5a593-140c-44ef-8bfb-a341aa6629ce"
      },
      "source": [
        "op_layer = mobile.output\n",
        "final_layer = Dense(128,activation='relu',kernel_initializer='he_uniform')(op_layer)\n",
        "final_layer = Dense(128,activation='relu',kernel_initializer='he_uniform')(final_layer)\n",
        "final_layer = Dense(2,activation= 'softmax')(final_layer)\n",
        "from keras.models  import Model\n",
        "# Define model input and output\n",
        "model = Model(inputs = mobile.input , outputs = final_layer)\n",
        "opt = SGD(lr=0.001, momentum=0.9)\n",
        "import keras\n",
        "optimizer_sgd = keras.optimizers.Adam(learning_rate=0.001)\n",
        "model.compile(optimizer=optimizer_sgd, loss='categorical_crossentropy', metrics=['accuracy'])"
      ],
      "execution_count": 80,
      "outputs": [
        {
          "output_type": "stream",
          "name": "stderr",
          "text": [
            "/usr/local/lib/python3.9/dist-packages/keras/optimizers/optimizer_v2/gradient_descent.py:114: UserWarning: The `lr` argument is deprecated, use `learning_rate` instead.\n",
            "  super().__init__(name, **kwargs)\n"
          ]
        }
      ]
    },
    {
      "cell_type": "code",
      "metadata": {
        "id": "WDTe1hS59NML",
        "outputId": "31fff4fa-e272-4655-cf03-6229e6841b50",
        "colab": {
          "base_uri": "https://localhost:8080/",
          "height": 0
        }
      },
      "source": [
        "model.summary()"
      ],
      "execution_count": 81,
      "outputs": [
        {
          "output_type": "stream",
          "name": "stdout",
          "text": [
            "Model: \"model\"\n",
            "_________________________________________________________________\n",
            " Layer (type)                Output Shape              Param #   \n",
            "=================================================================\n",
            " conv2d_input (InputLayer)   [(None, 50, 50, 1)]       0         \n",
            "                                                                 \n",
            " conv2d (Conv2D)             (None, 50, 50, 32)        320       \n",
            "                                                                 \n",
            " batch_normalization (BatchN  (None, 50, 50, 32)       128       \n",
            " ormalization)                                                   \n",
            "                                                                 \n",
            " conv2d_1 (Conv2D)           (None, 50, 50, 32)        9248      \n",
            "                                                                 \n",
            " batch_normalization_1 (Batc  (None, 50, 50, 32)       128       \n",
            " hNormalization)                                                 \n",
            "                                                                 \n",
            " max_pooling2d (MaxPooling2D  (None, 25, 25, 32)       0         \n",
            " )                                                               \n",
            "                                                                 \n",
            " dropout (Dropout)           (None, 25, 25, 32)        0         \n",
            "                                                                 \n",
            " conv2d_2 (Conv2D)           (None, 25, 25, 64)        18496     \n",
            "                                                                 \n",
            " batch_normalization_2 (Batc  (None, 25, 25, 64)       256       \n",
            " hNormalization)                                                 \n",
            "                                                                 \n",
            " conv2d_3 (Conv2D)           (None, 25, 25, 64)        36928     \n",
            "                                                                 \n",
            " batch_normalization_3 (Batc  (None, 25, 25, 64)       256       \n",
            " hNormalization)                                                 \n",
            "                                                                 \n",
            " max_pooling2d_1 (MaxPooling  (None, 12, 12, 64)       0         \n",
            " 2D)                                                             \n",
            "                                                                 \n",
            " dropout_1 (Dropout)         (None, 12, 12, 64)        0         \n",
            "                                                                 \n",
            " conv2d_4 (Conv2D)           (None, 12, 12, 128)       73856     \n",
            "                                                                 \n",
            " batch_normalization_4 (Batc  (None, 12, 12, 128)      512       \n",
            " hNormalization)                                                 \n",
            "                                                                 \n",
            " conv2d_5 (Conv2D)           (None, 12, 12, 128)       147584    \n",
            "                                                                 \n",
            " batch_normalization_5 (Batc  (None, 12, 12, 128)      512       \n",
            " hNormalization)                                                 \n",
            "                                                                 \n",
            " max_pooling2d_2 (MaxPooling  (None, 6, 6, 128)        0         \n",
            " 2D)                                                             \n",
            "                                                                 \n",
            " dropout_2 (Dropout)         (None, 6, 6, 128)         0         \n",
            "                                                                 \n",
            " conv2d_6 (Conv2D)           (None, 6, 6, 128)         147584    \n",
            "                                                                 \n",
            " batch_normalization_6 (Batc  (None, 6, 6, 128)        512       \n",
            " hNormalization)                                                 \n",
            "                                                                 \n",
            " conv2d_7 (Conv2D)           (None, 6, 6, 128)         147584    \n",
            "                                                                 \n",
            " batch_normalization_7 (Batc  (None, 6, 6, 128)        512       \n",
            " hNormalization)                                                 \n",
            "                                                                 \n",
            " max_pooling2d_3 (MaxPooling  (None, 3, 3, 128)        0         \n",
            " 2D)                                                             \n",
            "                                                                 \n",
            " dropout_3 (Dropout)         (None, 3, 3, 128)         0         \n",
            "                                                                 \n",
            " conv2d_8 (Conv2D)           (None, 3, 3, 128)         147584    \n",
            "                                                                 \n",
            " batch_normalization_8 (Batc  (None, 3, 3, 128)        512       \n",
            " hNormalization)                                                 \n",
            "                                                                 \n",
            " conv2d_9 (Conv2D)           (None, 3, 3, 128)         147584    \n",
            "                                                                 \n",
            " batch_normalization_9 (Batc  (None, 3, 3, 128)        512       \n",
            " hNormalization)                                                 \n",
            "                                                                 \n",
            " max_pooling2d_4 (MaxPooling  (None, 1, 1, 128)        0         \n",
            " 2D)                                                             \n",
            "                                                                 \n",
            " dropout_4 (Dropout)         (None, 1, 1, 128)         0         \n",
            "                                                                 \n",
            " flatten (Flatten)           (None, 128)               0         \n",
            "                                                                 \n",
            " dense (Dense)               (None, 128)               16512     \n",
            "                                                                 \n",
            " batch_normalization_10 (Bat  (None, 128)              512       \n",
            " chNormalization)                                                \n",
            "                                                                 \n",
            " dropout_5 (Dropout)         (None, 128)               0         \n",
            "                                                                 \n",
            " dense_1 (Dense)             (None, 128)               16512     \n",
            "                                                                 \n",
            " dense_2 (Dense)             (None, 128)               16512     \n",
            "                                                                 \n",
            " dense_3 (Dense)             (None, 128)               16512     \n",
            "                                                                 \n",
            " dense_4 (Dense)             (None, 2)                 258       \n",
            "                                                                 \n",
            "=================================================================\n",
            "Total params: 947,426\n",
            "Trainable params: 945,250\n",
            "Non-trainable params: 2,176\n",
            "_________________________________________________________________\n"
          ]
        }
      ]
    },
    {
      "cell_type": "code",
      "metadata": {
        "id": "-iJUgAMNueJ-"
      },
      "source": [
        "# plot diagnostic learning curves\n",
        "import matplotlib.pyplot as plt\n",
        "def summarize_diagnostics(hist):\n",
        "\tplt.plot(hist.history[\"accuracy\"])\n",
        "\tplt.plot(hist.history['val_accuracy'])\n",
        "\tplt.plot(hist.history['loss'])\n",
        "\tplt.plot(hist.history['val_loss'])\n",
        "\tplt.title(\"model accuracy\")\n",
        "\tplt.ylabel(\"Accuracy\")\n",
        "\tplt.xlabel(\"Epoch\")\n",
        "\tplt.legend([\"Accuracy\",\"Validation Accuracy\",\"loss\",\"Validation Loss\"])"
      ],
      "execution_count": 82,
      "outputs": []
    },
    {
      "cell_type": "code",
      "metadata": {
        "id": "hQn5AQJN6S--"
      },
      "source": [
        "callbacks = [\n",
        "    keras.callbacks.ModelCheckpoint('classification_deep_conv_model.h5', save_best_only=True),\n",
        "    keras.callbacks.ReduceLROnPlateau()]"
      ],
      "execution_count": 83,
      "outputs": []
    },
    {
      "cell_type": "code",
      "metadata": {
        "id": "G7p5wlEvufOc",
        "outputId": "9d4f4d5a-11e5-41f2-eac9-2d8b83603103",
        "colab": {
          "base_uri": "https://localhost:8080/",
          "height": 3834
        }
      },
      "source": [
        "# run the test harness for evaluating a model\n",
        "def run_test_harness():\n",
        "\t# create data generator\n",
        "\tdatagen = ImageDataGenerator(width_shift_range=0.1, height_shift_range=0.1, horizontal_flip=True,zoom_range=0.1)\n",
        "\t# prepare iterator\n",
        "\tit_train = datagen.flow(X_train_images_np, y_train_labels_np, batch_size=64)\n",
        "\t# fit model\n",
        "\tsteps = int(X_train_images_np.shape[0] / 64)\n",
        "\thist = model.fit_generator(it_train, steps_per_epoch=steps, epochs=100, validation_data=(X_val_images_np, y_val_labels_np), verbose=1, callbacks = callbacks)\n",
        "\t# evaluate model\n",
        "\t_, acc = model.evaluate(X_val_images_np, y_val_labels_np, verbose=1)\n",
        "\tprint('> %.3f' % (acc * 100.0))\n",
        "\t# learning curves\n",
        "\tsummarize_diagnostics(hist)\n",
        "\n",
        "# entry point, run the test harness\n",
        "run_test_harness()"
      ],
      "execution_count": 84,
      "outputs": [
        {
          "metadata": {
            "tags": null
          },
          "name": "stderr",
          "output_type": "stream",
          "text": [
            "<ipython-input-84-09306024be5e>:9: UserWarning: `Model.fit_generator` is deprecated and will be removed in a future version. Please use `Model.fit`, which supports generators.\n",
            "  hist = model.fit_generator(it_train, steps_per_epoch=steps, epochs=100, validation_data=(X_val_images_np, y_val_labels_np), verbose=1, callbacks = callbacks)\n"
          ]
        },
        {
          "output_type": "stream",
          "name": "stdout",
          "text": [
            "Epoch 1/100\n",
            "81/81 [==============================] - 164s 2s/step - loss: 0.5897 - accuracy: 0.8032 - val_loss: 0.4905 - val_accuracy: 0.8273 - lr: 0.0010\n",
            "Epoch 2/100\n",
            "81/81 [==============================] - 157s 2s/step - loss: 0.4548 - accuracy: 0.8294 - val_loss: 0.5591 - val_accuracy: 0.8250 - lr: 0.0010\n",
            "Epoch 3/100\n",
            "81/81 [==============================] - 154s 2s/step - loss: 0.4362 - accuracy: 0.8313 - val_loss: 0.4145 - val_accuracy: 0.8288 - lr: 0.0010\n",
            "Epoch 4/100\n",
            "81/81 [==============================] - 151s 2s/step - loss: 0.4005 - accuracy: 0.8294 - val_loss: 0.3799 - val_accuracy: 0.8288 - lr: 0.0010\n",
            "Epoch 5/100\n",
            "81/81 [==============================] - 154s 2s/step - loss: 0.3886 - accuracy: 0.8329 - val_loss: 0.7939 - val_accuracy: 0.8258 - lr: 0.0010\n",
            "Epoch 6/100\n",
            "81/81 [==============================] - 157s 2s/step - loss: 0.3942 - accuracy: 0.8351 - val_loss: 0.3411 - val_accuracy: 0.8489 - lr: 0.0010\n",
            "Epoch 7/100\n",
            "81/81 [==============================] - 152s 2s/step - loss: 0.3490 - accuracy: 0.8493 - val_loss: 0.3336 - val_accuracy: 0.8574 - lr: 0.0010\n",
            "Epoch 8/100\n",
            "81/81 [==============================] - 154s 2s/step - loss: 0.3253 - accuracy: 0.8542 - val_loss: 0.2955 - val_accuracy: 0.8843 - lr: 0.0010\n",
            "Epoch 9/100\n",
            "81/81 [==============================] - 153s 2s/step - loss: 0.2885 - accuracy: 0.8772 - val_loss: 0.2783 - val_accuracy: 0.8897 - lr: 0.0010\n",
            "Epoch 10/100\n",
            "81/81 [==============================] - 155s 2s/step - loss: 0.2798 - accuracy: 0.8831 - val_loss: 0.2596 - val_accuracy: 0.8982 - lr: 0.0010\n",
            "Epoch 11/100\n",
            "81/81 [==============================] - 158s 2s/step - loss: 0.2572 - accuracy: 0.8911 - val_loss: 0.2342 - val_accuracy: 0.9036 - lr: 0.0010\n",
            "Epoch 12/100\n",
            "81/81 [==============================] - 152s 2s/step - loss: 0.2465 - accuracy: 0.8950 - val_loss: 0.2377 - val_accuracy: 0.8975 - lr: 0.0010\n",
            "Epoch 13/100\n",
            "81/81 [==============================] - 154s 2s/step - loss: 0.2321 - accuracy: 0.9063 - val_loss: 0.2060 - val_accuracy: 0.9052 - lr: 0.0010\n",
            "Epoch 14/100\n",
            "81/81 [==============================] - 152s 2s/step - loss: 0.2234 - accuracy: 0.9090 - val_loss: 0.2678 - val_accuracy: 0.8836 - lr: 0.0010\n",
            "Epoch 15/100\n",
            "81/81 [==============================] - 152s 2s/step - loss: 0.2237 - accuracy: 0.9063 - val_loss: 0.2109 - val_accuracy: 0.9136 - lr: 0.0010\n",
            "Epoch 16/100\n",
            "81/81 [==============================] - 150s 2s/step - loss: 0.2206 - accuracy: 0.9071 - val_loss: 0.1898 - val_accuracy: 0.9183 - lr: 0.0010\n",
            "Epoch 17/100\n",
            "81/81 [==============================] - 153s 2s/step - loss: 0.2046 - accuracy: 0.9176 - val_loss: 0.2038 - val_accuracy: 0.9090 - lr: 0.0010\n",
            "Epoch 18/100\n",
            "81/81 [==============================] - 147s 2s/step - loss: 0.1965 - accuracy: 0.9247 - val_loss: 0.1648 - val_accuracy: 0.9322 - lr: 0.0010\n",
            "Epoch 19/100\n",
            "81/81 [==============================] - 145s 2s/step - loss: 0.2401 - accuracy: 0.8983 - val_loss: 0.2003 - val_accuracy: 0.9183 - lr: 0.0010\n",
            "Epoch 20/100\n",
            "81/81 [==============================] - 150s 2s/step - loss: 0.2009 - accuracy: 0.9188 - val_loss: 0.1595 - val_accuracy: 0.9345 - lr: 0.0010\n",
            "Epoch 21/100\n",
            "81/81 [==============================] - 149s 2s/step - loss: 0.1876 - accuracy: 0.9319 - val_loss: 0.1772 - val_accuracy: 0.9229 - lr: 0.0010\n",
            "Epoch 22/100\n",
            "81/81 [==============================] - 149s 2s/step - loss: 0.1784 - accuracy: 0.9277 - val_loss: 0.1787 - val_accuracy: 0.9268 - lr: 0.0010\n",
            "Epoch 23/100\n",
            "81/81 [==============================] - 151s 2s/step - loss: 0.1712 - accuracy: 0.9305 - val_loss: 0.1792 - val_accuracy: 0.9298 - lr: 0.0010\n",
            "Epoch 24/100\n",
            "81/81 [==============================] - 149s 2s/step - loss: 0.1737 - accuracy: 0.9330 - val_loss: 0.1768 - val_accuracy: 0.9144 - lr: 0.0010\n",
            "Epoch 25/100\n",
            "81/81 [==============================] - 148s 2s/step - loss: 0.1601 - accuracy: 0.9397 - val_loss: 0.1710 - val_accuracy: 0.9198 - lr: 0.0010\n",
            "Epoch 26/100\n",
            "81/81 [==============================] - 145s 2s/step - loss: 0.1656 - accuracy: 0.9375 - val_loss: 0.1947 - val_accuracy: 0.9090 - lr: 0.0010\n",
            "Epoch 27/100\n",
            "81/81 [==============================] - 148s 2s/step - loss: 0.1553 - accuracy: 0.9407 - val_loss: 0.1469 - val_accuracy: 0.9399 - lr: 0.0010\n",
            "Epoch 28/100\n",
            "81/81 [==============================] - 148s 2s/step - loss: 0.1668 - accuracy: 0.9334 - val_loss: 0.1639 - val_accuracy: 0.9237 - lr: 0.0010\n",
            "Epoch 29/100\n",
            "81/81 [==============================] - 149s 2s/step - loss: 0.1604 - accuracy: 0.9375 - val_loss: 0.1552 - val_accuracy: 0.9345 - lr: 0.0010\n",
            "Epoch 30/100\n",
            "81/81 [==============================] - 146s 2s/step - loss: 0.1548 - accuracy: 0.9422 - val_loss: 0.1387 - val_accuracy: 0.9437 - lr: 0.0010\n",
            "Epoch 31/100\n",
            "81/81 [==============================] - 145s 2s/step - loss: 0.1501 - accuracy: 0.9448 - val_loss: 0.1362 - val_accuracy: 0.9429 - lr: 0.0010\n",
            "Epoch 32/100\n",
            "81/81 [==============================] - 148s 2s/step - loss: 0.1368 - accuracy: 0.9494 - val_loss: 0.1477 - val_accuracy: 0.9406 - lr: 0.0010\n",
            "Epoch 33/100\n",
            "81/81 [==============================] - 147s 2s/step - loss: 0.1365 - accuracy: 0.9467 - val_loss: 0.1515 - val_accuracy: 0.9460 - lr: 0.0010\n",
            "Epoch 34/100\n",
            "81/81 [==============================] - 145s 2s/step - loss: 0.1336 - accuracy: 0.9487 - val_loss: 0.1201 - val_accuracy: 0.9507 - lr: 0.0010\n",
            "Epoch 35/100\n",
            "81/81 [==============================] - 146s 2s/step - loss: 0.1401 - accuracy: 0.9487 - val_loss: 0.1311 - val_accuracy: 0.9422 - lr: 0.0010\n",
            "Epoch 36/100\n",
            "81/81 [==============================] - 149s 2s/step - loss: 0.1211 - accuracy: 0.9530 - val_loss: 0.1513 - val_accuracy: 0.9375 - lr: 0.0010\n",
            "Epoch 37/100\n",
            "81/81 [==============================] - 148s 2s/step - loss: 0.1535 - accuracy: 0.9448 - val_loss: 0.2986 - val_accuracy: 0.8905 - lr: 0.0010\n",
            "Epoch 38/100\n",
            "81/81 [==============================] - 146s 2s/step - loss: 0.1680 - accuracy: 0.9344 - val_loss: 0.1417 - val_accuracy: 0.9399 - lr: 0.0010\n",
            "Epoch 39/100\n",
            "81/81 [==============================] - 143s 2s/step - loss: 0.1468 - accuracy: 0.9446 - val_loss: 0.1427 - val_accuracy: 0.9445 - lr: 0.0010\n",
            "Epoch 40/100\n",
            "81/81 [==============================] - 150s 2s/step - loss: 0.1275 - accuracy: 0.9541 - val_loss: 0.1188 - val_accuracy: 0.9530 - lr: 0.0010\n",
            "Epoch 41/100\n",
            "81/81 [==============================] - 151s 2s/step - loss: 0.1312 - accuracy: 0.9514 - val_loss: 0.1606 - val_accuracy: 0.9391 - lr: 0.0010\n",
            "Epoch 42/100\n",
            "81/81 [==============================] - 151s 2s/step - loss: 0.1282 - accuracy: 0.9539 - val_loss: 0.1187 - val_accuracy: 0.9468 - lr: 0.0010\n",
            "Epoch 43/100\n",
            "81/81 [==============================] - 149s 2s/step - loss: 0.1431 - accuracy: 0.9475 - val_loss: 0.1977 - val_accuracy: 0.9082 - lr: 0.0010\n",
            "Epoch 44/100\n",
            "81/81 [==============================] - 147s 2s/step - loss: 0.1549 - accuracy: 0.9395 - val_loss: 0.1847 - val_accuracy: 0.9198 - lr: 0.0010\n",
            "Epoch 45/100\n",
            "81/81 [==============================] - 148s 2s/step - loss: 0.1228 - accuracy: 0.9514 - val_loss: 0.1288 - val_accuracy: 0.9468 - lr: 0.0010\n",
            "Epoch 46/100\n",
            "81/81 [==============================] - 147s 2s/step - loss: 0.1381 - accuracy: 0.9448 - val_loss: 0.1551 - val_accuracy: 0.9445 - lr: 0.0010\n",
            "Epoch 47/100\n",
            "81/81 [==============================] - 147s 2s/step - loss: 0.1222 - accuracy: 0.9565 - val_loss: 0.1385 - val_accuracy: 0.9437 - lr: 0.0010\n",
            "Epoch 48/100\n",
            "81/81 [==============================] - 147s 2s/step - loss: 0.1142 - accuracy: 0.9610 - val_loss: 0.1436 - val_accuracy: 0.9437 - lr: 0.0010\n",
            "Epoch 49/100\n",
            "81/81 [==============================] - 148s 2s/step - loss: 0.1255 - accuracy: 0.9545 - val_loss: 0.1277 - val_accuracy: 0.9476 - lr: 0.0010\n",
            "Epoch 50/100\n",
            "81/81 [==============================] - 150s 2s/step - loss: 0.1253 - accuracy: 0.9530 - val_loss: 0.1235 - val_accuracy: 0.9468 - lr: 0.0010\n",
            "Epoch 51/100\n",
            "81/81 [==============================] - 144s 2s/step - loss: 0.1176 - accuracy: 0.9559 - val_loss: 0.1174 - val_accuracy: 0.9530 - lr: 0.0010\n",
            "Epoch 52/100\n",
            "81/81 [==============================] - 149s 2s/step - loss: 0.1089 - accuracy: 0.9574 - val_loss: 0.1366 - val_accuracy: 0.9391 - lr: 0.0010\n",
            "Epoch 53/100\n",
            "81/81 [==============================] - 147s 2s/step - loss: 0.1026 - accuracy: 0.9639 - val_loss: 0.1220 - val_accuracy: 0.9476 - lr: 0.0010\n",
            "Epoch 54/100\n",
            "81/81 [==============================] - 146s 2s/step - loss: 0.1065 - accuracy: 0.9604 - val_loss: 0.1646 - val_accuracy: 0.9360 - lr: 0.0010\n",
            "Epoch 55/100\n",
            "81/81 [==============================] - 149s 2s/step - loss: 0.1205 - accuracy: 0.9569 - val_loss: 0.1342 - val_accuracy: 0.9491 - lr: 0.0010\n",
            "Epoch 56/100\n",
            "81/81 [==============================] - 147s 2s/step - loss: 0.1084 - accuracy: 0.9619 - val_loss: 0.1378 - val_accuracy: 0.9460 - lr: 0.0010\n",
            "Epoch 57/100\n",
            "81/81 [==============================] - 148s 2s/step - loss: 0.1072 - accuracy: 0.9649 - val_loss: 0.1142 - val_accuracy: 0.9568 - lr: 0.0010\n",
            "Epoch 58/100\n",
            "81/81 [==============================] - 147s 2s/step - loss: 0.0991 - accuracy: 0.9653 - val_loss: 0.1155 - val_accuracy: 0.9537 - lr: 0.0010\n",
            "Epoch 59/100\n",
            "81/81 [==============================] - 145s 2s/step - loss: 0.0915 - accuracy: 0.9692 - val_loss: 0.1635 - val_accuracy: 0.9429 - lr: 0.0010\n",
            "Epoch 60/100\n",
            "81/81 [==============================] - 146s 2s/step - loss: 0.1263 - accuracy: 0.9524 - val_loss: 0.1202 - val_accuracy: 0.9491 - lr: 0.0010\n",
            "Epoch 61/100\n",
            "81/81 [==============================] - 146s 2s/step - loss: 0.1030 - accuracy: 0.9608 - val_loss: 0.2526 - val_accuracy: 0.8990 - lr: 0.0010\n",
            "Epoch 62/100\n",
            "81/81 [==============================] - 148s 2s/step - loss: 0.3476 - accuracy: 0.8600 - val_loss: 0.3101 - val_accuracy: 0.8635 - lr: 0.0010\n",
            "Epoch 63/100\n",
            "81/81 [==============================] - 149s 2s/step - loss: 0.2177 - accuracy: 0.9127 - val_loss: 0.2137 - val_accuracy: 0.9098 - lr: 0.0010\n",
            "Epoch 64/100\n",
            "81/81 [==============================] - 145s 2s/step - loss: 0.1721 - accuracy: 0.9313 - val_loss: 0.2240 - val_accuracy: 0.9029 - lr: 0.0010\n",
            "Epoch 65/100\n",
            "81/81 [==============================] - 147s 2s/step - loss: 0.1542 - accuracy: 0.9416 - val_loss: 0.1394 - val_accuracy: 0.9368 - lr: 0.0010\n",
            "Epoch 66/100\n",
            "81/81 [==============================] - 144s 2s/step - loss: 0.1348 - accuracy: 0.9455 - val_loss: 0.1909 - val_accuracy: 0.9337 - lr: 0.0010\n",
            "Epoch 67/100\n",
            "81/81 [==============================] - 148s 2s/step - loss: 0.1426 - accuracy: 0.9443 - val_loss: 0.1512 - val_accuracy: 0.9429 - lr: 0.0010\n",
            "Epoch 68/100\n",
            "81/81 [==============================] - 151s 2s/step - loss: 0.1182 - accuracy: 0.9551 - val_loss: 0.1355 - val_accuracy: 0.9483 - lr: 1.0000e-04\n",
            "Epoch 69/100\n",
            "81/81 [==============================] - 146s 2s/step - loss: 0.1149 - accuracy: 0.9596 - val_loss: 0.1294 - val_accuracy: 0.9553 - lr: 1.0000e-04\n",
            "Epoch 70/100\n",
            "81/81 [==============================] - 149s 2s/step - loss: 0.1108 - accuracy: 0.9592 - val_loss: 0.1229 - val_accuracy: 0.9514 - lr: 1.0000e-04\n",
            "Epoch 71/100\n",
            "81/81 [==============================] - 146s 2s/step - loss: 0.1100 - accuracy: 0.9596 - val_loss: 0.1220 - val_accuracy: 0.9537 - lr: 1.0000e-04\n",
            "Epoch 72/100\n",
            "81/81 [==============================] - 149s 2s/step - loss: 0.1008 - accuracy: 0.9623 - val_loss: 0.1205 - val_accuracy: 0.9568 - lr: 1.0000e-04\n",
            "Epoch 73/100\n",
            "81/81 [==============================] - 147s 2s/step - loss: 0.1049 - accuracy: 0.9574 - val_loss: 0.1274 - val_accuracy: 0.9522 - lr: 1.0000e-04\n",
            "Epoch 74/100\n",
            "81/81 [==============================] - 147s 2s/step - loss: 0.1058 - accuracy: 0.9629 - val_loss: 0.1210 - val_accuracy: 0.9530 - lr: 1.0000e-04\n",
            "Epoch 75/100\n",
            "81/81 [==============================] - 148s 2s/step - loss: 0.1051 - accuracy: 0.9615 - val_loss: 0.1172 - val_accuracy: 0.9561 - lr: 1.0000e-04\n",
            "Epoch 76/100\n",
            "81/81 [==============================] - 146s 2s/step - loss: 0.0989 - accuracy: 0.9627 - val_loss: 0.1192 - val_accuracy: 0.9584 - lr: 1.0000e-04\n",
            "Epoch 77/100\n",
            "81/81 [==============================] - 149s 2s/step - loss: 0.1005 - accuracy: 0.9631 - val_loss: 0.1200 - val_accuracy: 0.9522 - lr: 1.0000e-04\n",
            "Epoch 78/100\n",
            "81/81 [==============================] - 148s 2s/step - loss: 0.1044 - accuracy: 0.9614 - val_loss: 0.1198 - val_accuracy: 0.9530 - lr: 1.0000e-05\n",
            "Epoch 79/100\n",
            "81/81 [==============================] - 151s 2s/step - loss: 0.1069 - accuracy: 0.9612 - val_loss: 0.1186 - val_accuracy: 0.9537 - lr: 1.0000e-05\n",
            "Epoch 80/100\n",
            "81/81 [==============================] - 147s 2s/step - loss: 0.0936 - accuracy: 0.9629 - val_loss: 0.1181 - val_accuracy: 0.9553 - lr: 1.0000e-05\n",
            "Epoch 81/100\n",
            "81/81 [==============================] - 148s 2s/step - loss: 0.0989 - accuracy: 0.9629 - val_loss: 0.1177 - val_accuracy: 0.9561 - lr: 1.0000e-05\n",
            "Epoch 82/100\n",
            "81/81 [==============================] - 151s 2s/step - loss: 0.0948 - accuracy: 0.9637 - val_loss: 0.1173 - val_accuracy: 0.9584 - lr: 1.0000e-05\n",
            "Epoch 83/100\n",
            "81/81 [==============================] - 148s 2s/step - loss: 0.0988 - accuracy: 0.9649 - val_loss: 0.1173 - val_accuracy: 0.9576 - lr: 1.0000e-05\n",
            "Epoch 84/100\n",
            "81/81 [==============================] - 147s 2s/step - loss: 0.1020 - accuracy: 0.9592 - val_loss: 0.1174 - val_accuracy: 0.9568 - lr: 1.0000e-05\n",
            "Epoch 85/100\n",
            "81/81 [==============================] - 147s 2s/step - loss: 0.0924 - accuracy: 0.9666 - val_loss: 0.1170 - val_accuracy: 0.9576 - lr: 1.0000e-05\n",
            "Epoch 86/100\n",
            "81/81 [==============================] - 149s 2s/step - loss: 0.0987 - accuracy: 0.9641 - val_loss: 0.1171 - val_accuracy: 0.9576 - lr: 1.0000e-05\n",
            "Epoch 87/100\n",
            "81/81 [==============================] - 147s 2s/step - loss: 0.0975 - accuracy: 0.9639 - val_loss: 0.1168 - val_accuracy: 0.9576 - lr: 1.0000e-05\n",
            "Epoch 88/100\n",
            "81/81 [==============================] - 145s 2s/step - loss: 0.0960 - accuracy: 0.9660 - val_loss: 0.1169 - val_accuracy: 0.9576 - lr: 1.0000e-06\n",
            "Epoch 89/100\n",
            "81/81 [==============================] - 142s 2s/step - loss: 0.0934 - accuracy: 0.9662 - val_loss: 0.1169 - val_accuracy: 0.9576 - lr: 1.0000e-06\n",
            "Epoch 90/100\n",
            "81/81 [==============================] - 142s 2s/step - loss: 0.0974 - accuracy: 0.9631 - val_loss: 0.1167 - val_accuracy: 0.9576 - lr: 1.0000e-06\n",
            "Epoch 91/100\n",
            "81/81 [==============================] - 149s 2s/step - loss: 0.1021 - accuracy: 0.9608 - val_loss: 0.1167 - val_accuracy: 0.9576 - lr: 1.0000e-06\n",
            "Epoch 92/100\n",
            "81/81 [==============================] - 147s 2s/step - loss: 0.0941 - accuracy: 0.9629 - val_loss: 0.1167 - val_accuracy: 0.9576 - lr: 1.0000e-06\n",
            "Epoch 93/100\n",
            "81/81 [==============================] - 147s 2s/step - loss: 0.0930 - accuracy: 0.9658 - val_loss: 0.1168 - val_accuracy: 0.9576 - lr: 1.0000e-06\n",
            "Epoch 94/100\n",
            "81/81 [==============================] - 145s 2s/step - loss: 0.0960 - accuracy: 0.9627 - val_loss: 0.1169 - val_accuracy: 0.9576 - lr: 1.0000e-06\n",
            "Epoch 95/100\n",
            "81/81 [==============================] - 149s 2s/step - loss: 0.0975 - accuracy: 0.9674 - val_loss: 0.1167 - val_accuracy: 0.9576 - lr: 1.0000e-06\n",
            "Epoch 96/100\n",
            "81/81 [==============================] - 143s 2s/step - loss: 0.0982 - accuracy: 0.9633 - val_loss: 0.1164 - val_accuracy: 0.9591 - lr: 1.0000e-06\n",
            "Epoch 97/100\n",
            "81/81 [==============================] - 148s 2s/step - loss: 0.0964 - accuracy: 0.9639 - val_loss: 0.1165 - val_accuracy: 0.9576 - lr: 1.0000e-06\n",
            "Epoch 98/100\n",
            "81/81 [==============================] - 150s 2s/step - loss: 0.0972 - accuracy: 0.9645 - val_loss: 0.1169 - val_accuracy: 0.9576 - lr: 1.0000e-07\n",
            "Epoch 99/100\n",
            "81/81 [==============================] - 145s 2s/step - loss: 0.0924 - accuracy: 0.9631 - val_loss: 0.1167 - val_accuracy: 0.9576 - lr: 1.0000e-07\n",
            "Epoch 100/100\n",
            "81/81 [==============================] - 149s 2s/step - loss: 0.0910 - accuracy: 0.9688 - val_loss: 0.1167 - val_accuracy: 0.9576 - lr: 1.0000e-07\n",
            "41/41 [==============================] - 8s 195ms/step - loss: 0.1167 - accuracy: 0.9576\n",
            "> 95.759\n"
          ]
        },
        {
          "output_type": "display_data",
          "data": {
            "text/plain": [
              "<Figure size 432x288 with 1 Axes>"
            ],
            "image/png": "[encoded data removed]"
          },
          "metadata": {
            "needs_background": "light"
          }
        }
      ]
    },
    {
      "cell_type": "code",
      "metadata": {
        "id": "-at21dhZ7QUh"
      },
      "source": [
        "model_new_1 = keras.models.load_model(\"classification_deep_conv_model.h5\")"
      ],
      "execution_count": 85,
      "outputs": []
    },
    {
      "cell_type": "code",
      "metadata": {
        "id": "vQTTrJhA0mV6",
        "outputId": "21210b57-b0c7-4a5e-c324-bc3b61447a7d",
        "colab": {
          "base_uri": "https://localhost:8080/",
          "height": 0
        }
      },
      "source": [
        "model_new_1.summary()"
      ],
      "execution_count": 86,
      "outputs": [
        {
          "output_type": "stream",
          "name": "stdout",
          "text": [
            "Model: \"model\"\n",
            "_________________________________________________________________\n",
            " Layer (type)                Output Shape              Param #   \n",
            "=================================================================\n",
            " conv2d_input (InputLayer)   [(None, 50, 50, 1)]       0         \n",
            "                                                                 \n",
            " conv2d (Conv2D)             (None, 50, 50, 32)        320       \n",
            "                                                                 \n",
            " batch_normalization (BatchN  (None, 50, 50, 32)       128       \n",
            " ormalization)                                                   \n",
            "                                                                 \n",
            " conv2d_1 (Conv2D)           (None, 50, 50, 32)        9248      \n",
            "                                                                 \n",
            " batch_normalization_1 (Batc  (None, 50, 50, 32)       128       \n",
            " hNormalization)                                                 \n",
            "                                                                 \n",
            " max_pooling2d (MaxPooling2D  (None, 25, 25, 32)       0         \n",
            " )                                                               \n",
            "                                                                 \n",
            " dropout (Dropout)           (None, 25, 25, 32)        0         \n",
            "                                                                 \n",
            " conv2d_2 (Conv2D)           (None, 25, 25, 64)        18496     \n",
            "                                                                 \n",
            " batch_normalization_2 (Batc  (None, 25, 25, 64)       256       \n",
            " hNormalization)                                                 \n",
            "                                                                 \n",
            " conv2d_3 (Conv2D)           (None, 25, 25, 64)        36928     \n",
            "                                                                 \n",
            " batch_normalization_3 (Batc  (None, 25, 25, 64)       256       \n",
            " hNormalization)                                                 \n",
            "                                                                 \n",
            " max_pooling2d_1 (MaxPooling  (None, 12, 12, 64)       0         \n",
            " 2D)                                                             \n",
            "                                                                 \n",
            " dropout_1 (Dropout)         (None, 12, 12, 64)        0         \n",
            "                                                                 \n",
            " conv2d_4 (Conv2D)           (None, 12, 12, 128)       73856     \n",
            "                                                                 \n",
            " batch_normalization_4 (Batc  (None, 12, 12, 128)      512       \n",
            " hNormalization)                                                 \n",
            "                                                                 \n",
            " conv2d_5 (Conv2D)           (None, 12, 12, 128)       147584    \n",
            "                                                                 \n",
            " batch_normalization_5 (Batc  (None, 12, 12, 128)      512       \n",
            " hNormalization)                                                 \n",
            "                                                                 \n",
            " max_pooling2d_2 (MaxPooling  (None, 6, 6, 128)        0         \n",
            " 2D)                                                             \n",
            "                                                                 \n",
            " dropout_2 (Dropout)         (None, 6, 6, 128)         0         \n",
            "                                                                 \n",
            " conv2d_6 (Conv2D)           (None, 6, 6, 128)         147584    \n",
            "                                                                 \n",
            " batch_normalization_6 (Batc  (None, 6, 6, 128)        512       \n",
            " hNormalization)                                                 \n",
            "                                                                 \n",
            " conv2d_7 (Conv2D)           (None, 6, 6, 128)         147584    \n",
            "                                                                 \n",
            " batch_normalization_7 (Batc  (None, 6, 6, 128)        512       \n",
            " hNormalization)                                                 \n",
            "                                                                 \n",
            " max_pooling2d_3 (MaxPooling  (None, 3, 3, 128)        0         \n",
            " 2D)                                                             \n",
            "                                                                 \n",
            " dropout_3 (Dropout)         (None, 3, 3, 128)         0         \n",
            "                                                                 \n",
            " conv2d_8 (Conv2D)           (None, 3, 3, 128)         147584    \n",
            "                                                                 \n",
            " batch_normalization_8 (Batc  (None, 3, 3, 128)        512       \n",
            " hNormalization)                                                 \n",
            "                                                                 \n",
            " conv2d_9 (Conv2D)           (None, 3, 3, 128)         147584    \n",
            "                                                                 \n",
            " batch_normalization_9 (Batc  (None, 3, 3, 128)        512       \n",
            " hNormalization)                                                 \n",
            "                                                                 \n",
            " max_pooling2d_4 (MaxPooling  (None, 1, 1, 128)        0         \n",
            " 2D)                                                             \n",
            "                                                                 \n",
            " dropout_4 (Dropout)         (None, 1, 1, 128)         0         \n",
            "                                                                 \n",
            " flatten (Flatten)           (None, 128)               0         \n",
            "                                                                 \n",
            " dense (Dense)               (None, 128)               16512     \n",
            "                                                                 \n",
            " batch_normalization_10 (Bat  (None, 128)              512       \n",
            " chNormalization)                                                \n",
            "                                                                 \n",
            " dropout_5 (Dropout)         (None, 128)               0         \n",
            "                                                                 \n",
            " dense_1 (Dense)             (None, 128)               16512     \n",
            "                                                                 \n",
            " dense_2 (Dense)             (None, 128)               16512     \n",
            "                                                                 \n",
            " dense_3 (Dense)             (None, 128)               16512     \n",
            "                                                                 \n",
            " dense_4 (Dense)             (None, 2)                 258       \n",
            "                                                                 \n",
            "=================================================================\n",
            "Total params: 947,426\n",
            "Trainable params: 945,250\n",
            "Non-trainable params: 2,176\n",
            "_________________________________________________________________\n"
          ]
        }
      ]
    },
    {
      "cell_type": "code",
      "metadata": {
        "id": "fz72edIl0qih",
        "outputId": "316d365e-42f7-4aa0-ea35-622ddbd3db23",
        "colab": {
          "base_uri": "https://localhost:8080/",
          "height": 0
        }
      },
      "source": [
        "from sklearn.metrics import confusion_matrix,classification_report\n",
        "y_pred = model_new_1.predict(X_test_images_np)\n",
        "y_p = np.argmax(y_pred,axis=1)\n",
        "y_true = np.argmax(y_test_labels_np,axis=1)\n",
        "print('confusion matrix')\n",
        "print(confusion_matrix(y_true,y_p))\n"
      ],
      "execution_count": 87,
      "outputs": [
        {
          "output_type": "stream",
          "name": "stdout",
          "text": [
            "51/51 [==============================] - 10s 188ms/step\n",
            "confusion matrix\n",
            "[[1307   33]\n",
            " [  43  239]]\n"
          ]
        }
      ]
    },
    {
      "cell_type": "code",
      "metadata": {
        "id": "KZ1ZBzXs0zUb",
        "outputId": "85ec2f0b-5fba-4d96-d3cf-b619f4f82437",
        "colab": {
          "base_uri": "https://localhost:8080/",
          "height": 0
        }
      },
      "source": [
        "print('Classification report')\n",
        "print(classification_report(y_true,y_p))"
      ],
      "execution_count": 88,
      "outputs": [
        {
          "output_type": "stream",
          "name": "stdout",
          "text": [
            "Classification report\n",
            "              precision    recall  f1-score   support\n",
            "\n",
            "           0       0.97      0.98      0.97      1340\n",
            "           1       0.88      0.85      0.86       282\n",
            "\n",
            "    accuracy                           0.95      1622\n",
            "   macro avg       0.92      0.91      0.92      1622\n",
            "weighted avg       0.95      0.95      0.95      1622\n",
            "\n"
          ]
        }
      ]
    },
    {
      "cell_type": "code",
      "metadata": {
        "id": "D1afoVFY2lIq",
        "colab": {
          "base_uri": "https://localhost:8080/",
          "height": 0
        },
        "outputId": "8fd5bfe0-5339-4f05-85cd-08998951d09b"
      },
      "source": [
        "from sklearn.preprocessing import StandardScaler\n",
        "sc = StandardScaler()\n",
        "op_layer = model_new_1.get_layer('dense_3').output\n",
        "model_new = Model(inputs = model_new_1.input,outputs = op_layer)\n",
        "train_new = sc.fit_transform(model_new.predict(X_train_images_np))\n",
        "val_new = sc.fit_transform(model_new.predict(X_val_images_np))\n",
        "test_new = sc.fit_transform(model_new.predict(X_test_images_np))"
      ],
      "execution_count": 89,
      "outputs": [
        {
          "output_type": "stream",
          "name": "stdout",
          "text": [
            "163/163 [==============================] - 29s 178ms/step\n",
            "41/41 [==============================] - 6s 155ms/step\n",
            "51/51 [==============================] - 9s 171ms/step\n"
          ]
        }
      ]
    },
    {
      "cell_type": "code",
      "metadata": {
        "id": "8JZyPUyl1XRG",
        "outputId": "c810223e-0c45-408d-a9d0-a32fc5781489",
        "colab": {
          "base_uri": "https://localhost:8080/",
          "height": 0
        }
      },
      "source": [
        "from sklearn.svm import SVC\n",
        "svm = SVC(kernel='rbf')\n",
        "svm.fit(train_new,np.argmax(y_train_labels_np,axis=1))\n",
        "print('Training score of svm',svm.score(train_new,np.argmax(y_train_labels_np,axis=1)))\n",
        "print('validation score of svm :',svm.score(val_new,np.argmax(y_val_labels_np,axis=1)))\n",
        "print('testing score of svm :',svm.score(test_new,np.argmax(y_test_labels_np,axis=1)))"
      ],
      "execution_count": 90,
      "outputs": [
        {
          "output_type": "stream",
          "name": "stdout",
          "text": [
            "Training score of svm 0.9807210333526123\n",
            "validation score of svm : 0.9560524286815728\n",
            "testing score of svm : 0.9506781750924784\n"
          ]
        }
      ]
    },
    {
      "cell_type": "code",
      "metadata": {
        "id": "b1cs_C8E2oBe",
        "outputId": "94b76d4c-9eb0-4530-a639-4c915209804d",
        "colab": {
          "base_uri": "https://localhost:8080/",
          "height": 0
        }
      },
      "source": [
        "from xgboost import XGBClassifier\n",
        "xg = XGBClassifier()\n",
        "xg.fit(train_new,np.argmax(y_train_labels_np,axis=1))\n",
        "print('Training score of xgb',xg.score(train_new,np.argmax(y_train_labels_np,axis=1)))\n",
        "print('validation score of xgb :',xg.score(val_new,np.argmax(y_val_labels_np,axis=1)))\n",
        "print('testing score of xgb :',xg.score(test_new,np.argmax(y_test_labels_np,axis=1)))"
      ],
      "execution_count": 91,
      "outputs": [
        {
          "output_type": "stream",
          "name": "stdout",
          "text": [
            "Training score of xgb 0.9996144206670522\n",
            "validation score of xgb : 0.9483423284502699\n",
            "testing score of xgb : 0.9475955610357584\n"
          ]
        }
      ]
    },
    {
      "cell_type": "code",
      "metadata": {
        "id": "5Xl4LpT3-kBn",
        "outputId": "795d604e-1373-4f65-8ed2-871891d15ba4",
        "colab": {
          "base_uri": "https://localhost:8080/",
          "height": 0
        }
      },
      "source": [
        "from sklearn.ensemble import RandomForestClassifier\n",
        "rf=RandomForestClassifier()\n",
        "rf.fit(train_new,np.argmax(y_train_labels_np,axis=1))\n",
        "print('Training score of random_forest',rf.score(train_new,np.argmax(y_train_labels_np,axis=1)))\n",
        "print('validation score of random_forest :',rf.score(val_new,np.argmax(y_val_labels_np,axis=1)))\n",
        "print('testing score of random_forest :',rf.score(test_new,np.argmax(y_test_labels_np,axis=1)))"
      ],
      "execution_count": 92,
      "outputs": [
        {
          "output_type": "stream",
          "name": "stdout",
          "text": [
            "Training score of random_forest 1.0\n",
            "validation score of random_forest : 0.9545104086353122\n",
            "testing score of random_forest : 0.9475955610357584\n"
          ]
        }
      ]
    },
    {
      "cell_type": "code",
      "metadata": {
        "id": "N5gYkmXmC8jO"
      },
      "source": [],
      "execution_count": 92,
      "outputs": []
    }
  ]
}